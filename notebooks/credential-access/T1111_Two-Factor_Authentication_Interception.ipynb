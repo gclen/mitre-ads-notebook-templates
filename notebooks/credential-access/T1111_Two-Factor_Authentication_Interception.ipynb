{
 "cells": [
  {
   "cell_type": "markdown",
   "metadata": {},
   "source": [
    "## Goal\n",
    "\n",
    "## Categorization\n",
    "[Credential Access/Two-Factor Authentication Interception](https://attack.mitre.org/techniques/T1111)\n",
    "\n",
    "## Strategy Abstract\n",
    "\n",
    "## Technical Context\n",
    "\n",
    "## Blind Spots and Assumptions\n",
    "\n",
    "## False Positives\n",
    "\n",
    "## Priority\n",
    "\n",
    "## Validation\n",
    "\n",
    "## Response\n",
    "\n",
    "## Additional Resources\n",
    "\n",
    " - [Mandiant M Trends 2011](https://dl.mandiant.com/EE/assets/PDF_MTrends_2011.pdf)\n",
    "\n",
    " - [GCN RSA June 2011](https://gcn.com/articles/2011/06/07/rsa-confirms-tokens-used-to-hack-lockheed.aspx)\n",
    "\n",
    " - [Operation Emmental](http://www.trendmicro.com/cloud-content/us/pdfs/security-intelligence/white-papers/wp-finding-holes-operation-emmental.pdf)\n"
   ]
  }
 ],
 "metadata": {},
 "nbformat": 4,
 "nbformat_minor": 4
}
