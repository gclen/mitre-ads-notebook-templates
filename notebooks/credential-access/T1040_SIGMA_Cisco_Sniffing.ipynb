{
 "cells": [
  {
   "cell_type": "markdown",
   "metadata": {},
   "source": [
    "## Goal\n",
    "\n",
    "## Categorization\n",
    "[Credential Access/Network Sniffing](https://attack.mitre.org/techniques/T1040)\n",
    "\n",
    "## Strategy Abstract\n",
    "\n",
    "## Technical Context\n",
    "\n",
    "## Blind Spots and Assumptions\n",
    "\n",
    "## False Positives\n",
    "\n",
    "## Priority\n",
    "\n",
    "## Validation\n",
    "\n",
    "## Response\n",
    "\n",
    "## Additional Resources\n",
    "\n",
    " - [capec](https://capec.mitre.org/data/definitions/158.html)\n",
    "\n",
    "\n",
    "\n",
    "#### Related sigma rules\n",
    "\n",
    "- [Network Sniffing](https://github.com/Neo23x0/sigma/blob/master/rules/windows/process_creation/win_network_sniffing.yml)\n",
    "\n",
    "- [Capture a Network Trace with netsh.exe](https://github.com/Neo23x0/sigma/blob/master/rules/windows/process_creation/win_netsh_packet_capture.yml)\n",
    "\n",
    "- [Network Sniffing](https://github.com/Neo23x0/sigma/blob/master/rules/linux/auditd/lnx_network_sniffing.yml)\n",
    "\n",
    "- [Cisco Sniffing](https://github.com/Neo23x0/sigma/blob/master/rules/network/cisco/aaa/cisco_cli_net_sniff.yml)\n",
    "\n"
   ]
  }
 ],
 "metadata": {},
 "nbformat": 4,
 "nbformat_minor": 4
}
