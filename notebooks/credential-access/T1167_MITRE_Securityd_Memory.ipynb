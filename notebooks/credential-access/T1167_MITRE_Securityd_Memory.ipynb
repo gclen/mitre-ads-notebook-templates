{
 "cells": [
  {
   "cell_type": "markdown",
   "metadata": {},
   "source": [
    "## Goal\n",
    "\n",
    "## Categorization\n",
    "[Credential Access/Securityd Memory](https://attack.mitre.org/techniques/T1167)\n",
    "\n",
    "## Strategy Abstract\n",
    "\n",
    "## Technical Context\n",
    "\n",
    "## Blind Spots and Assumptions\n",
    "\n",
    "## False Positives\n",
    "\n",
    "## Priority\n",
    "\n",
    "## Validation\n",
    "\n",
    "## Response\n",
    "\n",
    "## Additional Resources\n",
    "\n",
    " - [OS X Keychain](http://juusosalonen.com/post/30923743427/breaking-into-the-os-x-keychain)\n",
    "\n",
    " - [OSX Keydnap malware](https://www.welivesecurity.com/2016/07/06/new-osxkeydnap-malware-hungry-credentials/)\n",
    "\n",
    " - [External to DA, the OS X Way](http://www.slideshare.net/StephanBorosh/external-to-da-the-os-x-way)\n",
    "\n",
    "\n"
   ]
  }
 ],
 "metadata": {},
 "nbformat": 4,
 "nbformat_minor": 4
}
