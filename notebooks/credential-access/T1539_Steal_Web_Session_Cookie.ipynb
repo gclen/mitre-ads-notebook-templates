{
 "cells": [
  {
   "cell_type": "markdown",
   "metadata": {},
   "source": [
    "## Goal\n",
    "\n",
    "## Categorization\n",
    "[Credential Access/Steal Web Session Cookie](https://attack.mitre.org/techniques/T1539)\n",
    "\n",
    "## Strategy Abstract\n",
    "\n",
    "## Technical Context\n",
    "\n",
    "## Blind Spots and Assumptions\n",
    "\n",
    "## False Positives\n",
    "\n",
    "## Priority\n",
    "\n",
    "## Validation\n",
    "\n",
    "## Response\n",
    "\n",
    "## Additional Resources\n",
    "\n",
    " - [Pass The Cookie](https://wunderwuzzi23.github.io/blog/passthecookie.html)\n",
    "\n",
    " - [Kaspersky TajMahal April 2019](https://securelist.com/project-tajmahal/90240/)\n",
    "\n",
    " - [Unit 42 Mac Crypto Cookies January 2019](https://unit42.paloaltonetworks.com/mac-malware-steals-cryptocurrency-exchanges-cookies/)\n",
    "\n",
    " - [Github evilginx2](https://github.com/kgretzky/evilginx2)\n",
    "\n",
    " - [GitHub Mauraena](https://github.com/muraenateam/muraena)\n"
   ]
  }
 ],
 "metadata": {},
 "nbformat": 4,
 "nbformat_minor": 4
}
