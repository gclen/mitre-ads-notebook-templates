{
 "cells": [
  {
   "cell_type": "markdown",
   "metadata": {},
   "source": [
    "## Goal\n",
    "\n",
    "## Categorization\n",
    "[Credential Access/Brute Force](https://attack.mitre.org/techniques/T1110)\n",
    "\n",
    "## Strategy Abstract\n",
    "\n",
    "## Technical Context\n",
    "\n",
    "## Blind Spots and Assumptions\n",
    "\n",
    "## False Positives\n",
    "\n",
    "## Priority\n",
    "\n",
    "## Validation\n",
    "\n",
    "## Response\n",
    "\n",
    "## Additional Resources\n",
    "\n",
    " - [capec](https://capec.mitre.org/data/definitions/49.html)\n",
    "\n",
    " - [Wikipedia Password cracking](https://en.wikipedia.org/wiki/Password_cracking)\n",
    "\n",
    " - [Cylance Cleaver](https://www.cylance.com/content/dam/cylance/pages/operation-cleaver/Cylance_Operation_Cleaver_Report.pdf)\n",
    "\n",
    " - [BlackHillsInfosec Password Spraying](http://www.blackhillsinfosec.com/?p=4645)\n",
    "\n",
    " - [US-CERT TA18-068A 2018](https://www.us-cert.gov/ncas/alerts/TA18-086A)\n",
    "\n",
    " - [Trimarc Detecting Password Spraying](https://www.trimarcsecurity.com/single-post/2018/05/06/Trimarc-Research-Detecting-Password-Spraying-with-Security-Event-Auditing)\n"
   ]
  }
 ],
 "metadata": {},
 "nbformat": 4,
 "nbformat_minor": 4
}
