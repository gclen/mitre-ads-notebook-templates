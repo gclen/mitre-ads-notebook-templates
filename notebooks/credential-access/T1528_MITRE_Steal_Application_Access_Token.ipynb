{
 "cells": [
  {
   "cell_type": "markdown",
   "metadata": {},
   "source": [
    "## Goal\n",
    "\n",
    "## Categorization\n",
    "[Credential Access/Steal Application Access Token](https://attack.mitre.org/techniques/T1528)\n",
    "\n",
    "## Strategy Abstract\n",
    "\n",
    "## Technical Context\n",
    "\n",
    "## Blind Spots and Assumptions\n",
    "\n",
    "## False Positives\n",
    "\n",
    "## Priority\n",
    "\n",
    "## Validation\n",
    "\n",
    "## Response\n",
    "\n",
    "## Additional Resources\n",
    "\n",
    " - [Auth0 - Why You Should Always Use Access Tokens to Secure APIs Sept 2019](https://auth0.com/docs/api-auth/why-use-access-tokens-to-secure-apis)\n",
    "\n",
    " - [Microsoft Identity Platform Protocols May 2019](https://docs.microsoft.com/en-us/azure/active-directory/develop/active-directory-v2-protocols)\n",
    "\n",
    " - [Microsoft - OAuth Code Authorization flow - June 2019](https://docs.microsoft.com/en-us/azure/active-directory/develop/v2-oauth2-auth-code-flow)\n",
    "\n",
    " - [Microsoft - Azure AD App Registration - May 2019](https://docs.microsoft.com/en-us/azure/active-directory/develop/quickstart-register-app)\n",
    "\n",
    " - [Microsoft - Azure AD Identity Tokens - Aug 2019](https://docs.microsoft.com/en-us/azure/active-directory/develop/access-tokens)\n",
    "\n",
    " - [Amnesty OAuth Phishing Attacks, August 2019](https://www.amnesty.org/en/latest/research/2019/08/evolving-phishing-attacks-targeting-journalists-and-human-rights-defenders-from-the-middle-east-and-north-africa/)\n",
    "\n",
    " - [Trend Micro Pawn Storm OAuth 2017](https://blog.trendmicro.com/trendlabs-security-intelligence/pawn-storm-abuses-open-authentication-advanced-social-engineering-attacks)\n",
    "\n",
    "\n"
   ]
  }
 ],
 "metadata": {},
 "nbformat": 4,
 "nbformat_minor": 4
}
