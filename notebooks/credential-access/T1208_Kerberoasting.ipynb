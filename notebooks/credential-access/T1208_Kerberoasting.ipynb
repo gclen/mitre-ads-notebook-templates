{
 "cells": [
  {
   "cell_type": "markdown",
   "metadata": {},
   "source": [
    "## Goal\n",
    "\n",
    "## Categorization\n",
    "[Credential Access/Kerberoasting](https://attack.mitre.org/techniques/T1208)\n",
    "\n",
    "## Strategy Abstract\n",
    "\n",
    "## Technical Context\n",
    "\n",
    "## Blind Spots and Assumptions\n",
    "\n",
    "## False Positives\n",
    "\n",
    "## Priority\n",
    "\n",
    "## Validation\n",
    "\n",
    "## Response\n",
    "\n",
    "## Additional Resources\n",
    "\n",
    " - [Microsoft Detecting Kerberoasting Feb 2018](https://blogs.technet.microsoft.com/motiba/2018/02/23/detecting-kerberoasting-activity-using-azure-security-center/)\n",
    "\n",
    " - [Microsoft SPN](https://msdn.microsoft.com/library/ms677949.aspx)\n",
    "\n",
    " - [Microsoft SetSPN](https://social.technet.microsoft.com/wiki/contents/articles/717.service-principal-names-spns-setspn-syntax-setspn-exe.aspx)\n",
    "\n",
    " - [SANS Attacking Kerberos Nov 2014]()\n",
    "\n",
    " - [Harmj0y Kerberoast Nov 2016](https://www.harmj0y.net/blog/powershell/kerberoasting-without-mimikatz/)\n",
    "\n",
    " - [Empire InvokeKerberoast Oct 2016](https://github.com/EmpireProject/Empire/blob/master/data/module_source/credentials/Invoke-Kerberoast.ps1)\n",
    "\n",
    " - [AdSecurity Cracking Kerberos Dec 2015](https://adsecurity.org/?p=2293)\n"
   ]
  }
 ],
 "metadata": {},
 "nbformat": 4,
 "nbformat_minor": 4
}
