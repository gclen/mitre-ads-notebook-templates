{
 "cells": [
  {
   "cell_type": "markdown",
   "metadata": {},
   "source": [
    "## Goal\n",
    "\n",
    "## Categorization\n",
    "[Credential Access/Exploitation for Credential Access](https://attack.mitre.org/techniques/T1212)\n",
    "\n",
    "## Strategy Abstract\n",
    "\n",
    "## Technical Context\n",
    "\n",
    "## Blind Spots and Assumptions\n",
    "\n",
    "## False Positives\n",
    "\n",
    "## Priority\n",
    "\n",
    "## Validation\n",
    "\n",
    "## Response\n",
    "\n",
    "## Additional Resources\n",
    "\n",
    " - [Technet MS14-068](https://technet.microsoft.com/en-us/library/security/ms14-068.aspx)\n",
    "\n",
    " - [ADSecurity Detecting Forged Tickets](https://adsecurity.org/?p=1515)\n",
    "\n",
    "\n",
    "\n",
    "#### Related sigma rules\n",
    "\n",
    "- [Kerberos Manipulation](https://github.com/Neo23x0/sigma/blob/master/rules/windows/builtin/win_susp_kerberos_manipulation.yml)\n",
    "\n",
    "- [NetNTLM Downgrade Attack](https://github.com/Neo23x0/sigma/blob/master/rules/windows/builtin/win_net_ntlm_downgrade.yml)\n",
    "\n",
    "- [Possible Remote Password Change Through SAMR](https://github.com/Neo23x0/sigma/blob/master/rules/windows/builtin/win_susp_samr_pwset.yml)\n",
    "\n"
   ]
  }
 ],
 "metadata": {},
 "nbformat": 4,
 "nbformat_minor": 4
}
