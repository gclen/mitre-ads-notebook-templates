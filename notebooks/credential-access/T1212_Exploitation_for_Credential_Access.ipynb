{
 "cells": [
  {
   "cell_type": "markdown",
   "metadata": {},
   "source": [
    "## Goal\n",
    "\n",
    "## Categorization\n",
    "[Credential Access/Exploitation for Credential Access](https://attack.mitre.org/techniques/T1212)\n",
    "\n",
    "## Strategy Abstract\n",
    "\n",
    "## Technical Context\n",
    "\n",
    "## Blind Spots and Assumptions\n",
    "\n",
    "## False Positives\n",
    "\n",
    "## Priority\n",
    "\n",
    "## Validation\n",
    "\n",
    "## Response\n",
    "\n",
    "## Additional Resources\n",
    "\n",
    " - [Technet MS14-068](https://technet.microsoft.com/en-us/library/security/ms14-068.aspx)\n",
    "\n",
    " - [ADSecurity Detecting Forged Tickets](https://adsecurity.org/?p=1515)\n"
   ]
  }
 ],
 "metadata": {},
 "nbformat": 4,
 "nbformat_minor": 4
}
