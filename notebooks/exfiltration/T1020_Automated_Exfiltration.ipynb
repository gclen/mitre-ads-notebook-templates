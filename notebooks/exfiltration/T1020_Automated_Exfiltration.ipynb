{
 "cells": [
  {
   "cell_type": "markdown",
   "metadata": {},
   "source": [
    "## Goal\n",
    "\n",
    "## Categorization\n",
    "[Exfiltration/Automated Exfiltration](https://attack.mitre.org/techniques/T1020)\n",
    "\n",
    "## Strategy Abstract\n",
    "\n",
    "## Technical Context\n",
    "\n",
    "## Blind Spots and Assumptions\n",
    "\n",
    "## False Positives\n",
    "\n",
    "## Priority\n",
    "\n",
    "## Validation\n",
    "\n",
    "## Response\n",
    "\n",
    "## Additional Resources\n",
    "\n",
    "\n",
    "\n",
    "#### Related sigma rules\n",
    "\n",
    "- [Suspicious Compression Tool Parameters](https://github.com/Neo23x0/sigma/blob/master/rules/windows/process_creation/win_susp_compression_params.yml)\n",
    "\n",
    "- [Exfiltration and Tunneling Tools Execution](https://github.com/Neo23x0/sigma/blob/master/rules/windows/process_creation/win_exfiltration_and_tunneling_tools_execution.yml)\n",
    "\n",
    "- [AWS RDS Master Password Change](https://github.com/Neo23x0/sigma/blob/master/rules/cloud/aws_rds_change_master_password.yml)\n",
    "\n",
    "- [AWS EC2 Download Userdata](https://github.com/Neo23x0/sigma/blob/master/rules/cloud/aws_ec2_download_userdata.yml)\n",
    "\n",
    "- [Restore Public AWS RDS Instance](https://github.com/Neo23x0/sigma/blob/master/rules/cloud/aws_rds_public_db_restore.yml)\n",
    "\n"
   ]
  }
 ],
 "metadata": {},
 "nbformat": 4,
 "nbformat_minor": 4
}
