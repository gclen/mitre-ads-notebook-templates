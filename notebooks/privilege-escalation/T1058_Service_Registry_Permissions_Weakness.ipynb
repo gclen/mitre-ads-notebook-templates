{
 "cells": [
  {
   "cell_type": "markdown",
   "metadata": {},
   "source": [
    "## Goal\n",
    "\n",
    "## Categorization\n",
    "[Privilege Escalation/Service Registry Permissions Weakness](https://attack.mitre.org/techniques/T1058)\n",
    "\n",
    "## Strategy Abstract\n",
    "\n",
    "## Technical Context\n",
    "\n",
    "## Blind Spots and Assumptions\n",
    "\n",
    "## False Positives\n",
    "\n",
    "## Priority\n",
    "\n",
    "## Validation\n",
    "\n",
    "## Response\n",
    "\n",
    "## Additional Resources\n",
    "\n",
    " - [capec](https://capec.mitre.org/data/definitions/478.html)\n",
    "\n",
    " - [MSDN Registry Key Security](https://msdn.microsoft.com/library/windows/desktop/ms724878.aspx)\n",
    "\n",
    " - [TrustedSignal Service Failure](https://trustedsignal.blogspot.com/2014/05/kansa-service-related-collectors-and.html)\n",
    "\n",
    " - [Twitter Service Recovery Nov 2017](https://twitter.com/r0wdy_/status/936365549553991680)\n",
    "\n",
    " - [TechNet Autoruns](https://technet.microsoft.com/en-us/sysinternals/bb963902)\n"
   ]
  }
 ],
 "metadata": {},
 "nbformat": 4,
 "nbformat_minor": 4
}
