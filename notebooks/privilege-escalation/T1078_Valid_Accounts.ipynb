{
 "cells": [
  {
   "cell_type": "markdown",
   "metadata": {},
   "source": [
    "## Goal\n",
    "\n",
    "## Categorization\n",
    "[Privilege Escalation/Valid Accounts](https://attack.mitre.org/techniques/T1078)\n",
    "\n",
    "## Strategy Abstract\n",
    "\n",
    "## Technical Context\n",
    "\n",
    "## Blind Spots and Assumptions\n",
    "\n",
    "## False Positives\n",
    "\n",
    "## Priority\n",
    "\n",
    "## Validation\n",
    "\n",
    "## Response\n",
    "\n",
    "## Additional Resources\n",
    "\n",
    " - [capec](https://capec.mitre.org/data/definitions/560.html)\n",
    "\n",
    " - [Microsoft Local Accounts Feb 2019](https://docs.microsoft.com/en-us/windows/security/identity-protection/access-control/local-accounts)\n",
    "\n",
    " - [Metasploit SSH Module](https://github.com/rapid7/metasploit-framework/tree/master/modules/exploits/linux/ssh)\n",
    "\n",
    " - [TechNet Credential Theft](https://technet.microsoft.com/en-us/library/dn535501.aspx)\n",
    "\n",
    " - [TechNet Audit Policy](https://technet.microsoft.com/en-us/library/dn487457.aspx)\n"
   ]
  }
 ],
 "metadata": {},
 "nbformat": 4,
 "nbformat_minor": 4
}
