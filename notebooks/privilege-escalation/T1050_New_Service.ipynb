{
 "cells": [
  {
   "cell_type": "markdown",
   "metadata": {},
   "source": [
    "## Goal\n",
    "\n",
    "## Categorization\n",
    "[Privilege Escalation/New Service](https://attack.mitre.org/techniques/T1050)\n",
    "\n",
    "## Strategy Abstract\n",
    "\n",
    "## Technical Context\n",
    "\n",
    "## Blind Spots and Assumptions\n",
    "\n",
    "## False Positives\n",
    "\n",
    "## Priority\n",
    "\n",
    "## Validation\n",
    "\n",
    "## Response\n",
    "\n",
    "## Additional Resources\n",
    "\n",
    " - [capec](https://capec.mitre.org/data/definitions/550.html)\n",
    "\n",
    " - [TechNet Services](https://technet.microsoft.com/en-us/library/cc772408.aspx)\n",
    "\n",
    " - [Microsoft 4697 APR 2017](https://docs.microsoft.com/windows/security/threat-protection/auditing/event-4697)\n",
    "\n",
    " - [Microsoft Windows Event Forwarding FEB 2018](https://docs.microsoft.com/windows/security/threat-protection/use-windows-event-forwarding-to-assist-in-intrusion-detection)\n",
    "\n",
    " - [TechNet Autoruns](https://technet.microsoft.com/en-us/sysinternals/bb963902)\n"
   ]
  }
 ],
 "metadata": {},
 "nbformat": 4,
 "nbformat_minor": 4
}
