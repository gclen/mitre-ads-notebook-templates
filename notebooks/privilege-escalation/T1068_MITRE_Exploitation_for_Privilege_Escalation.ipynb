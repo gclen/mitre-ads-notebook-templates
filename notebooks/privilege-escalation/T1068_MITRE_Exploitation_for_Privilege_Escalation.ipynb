{
 "cells": [
  {
   "cell_type": "markdown",
   "metadata": {},
   "source": [
    "## Goal\n",
    "\n",
    "## Categorization\n",
    "[Privilege Escalation/Exploitation for Privilege Escalation](https://attack.mitre.org/techniques/T1068)\n",
    "\n",
    "## Strategy Abstract\n",
    "\n",
    "## Technical Context\n",
    "\n",
    "## Blind Spots and Assumptions\n",
    "\n",
    "## False Positives\n",
    "\n",
    "## Priority\n",
    "\n",
    "## Validation\n",
    "\n",
    "## Response\n",
    "\n",
    "## Additional Resources\n",
    "\n",
    "\n",
    "\n",
    "#### Related sigma rules\n",
    "\n",
    "- [Hurricane Panda Activity](https://github.com/Neo23x0/sigma/blob/master/rules/windows/process_creation/win_apt_hurricane_panda.yml)\n",
    "\n",
    "- [Exploiting CVE-2019-1388](https://github.com/Neo23x0/sigma/blob/master/rules/windows/process_creation/win_exploit_cve_2019_1388.yml)\n",
    "\n",
    "- [Windows Kernel and 3rd-Party Drivers Exploits Token Stealing](https://github.com/Neo23x0/sigma/blob/master/rules/windows/process_creation/win_kernel_and_3rd_party_drivers_exploits_token_stealing.yml)\n",
    "\n",
    "- [Privilege Escalation Preparation](https://github.com/Neo23x0/sigma/blob/master/rules/linux/lnx_shell_priv_esc_prep.yml)\n",
    "\n",
    "- [Sudo Privilege Escalation CVE-2019-14287](https://github.com/Neo23x0/sigma/blob/master/rules/linux/lnx_sudo_cve_2019_14287.yml)\n",
    "\n"
   ]
  }
 ],
 "metadata": {},
 "nbformat": 4,
 "nbformat_minor": 4
}
