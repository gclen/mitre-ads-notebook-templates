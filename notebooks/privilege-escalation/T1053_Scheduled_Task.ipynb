{
 "cells": [
  {
   "cell_type": "markdown",
   "metadata": {},
   "source": [
    "## Goal\n",
    "\n",
    "## Categorization\n",
    "[Privilege Escalation/Scheduled Task](https://attack.mitre.org/techniques/T1053)\n",
    "\n",
    "## Strategy Abstract\n",
    "\n",
    "## Technical Context\n",
    "\n",
    "## Blind Spots and Assumptions\n",
    "\n",
    "## False Positives\n",
    "\n",
    "## Priority\n",
    "\n",
    "## Validation\n",
    "\n",
    "## Response\n",
    "\n",
    "## Additional Resources\n",
    "\n",
    " - [capec](https://capec.mitre.org/data/definitions/557.html)\n",
    "\n",
    " - [TechNet Task Scheduler Security](https://technet.microsoft.com/en-us/library/cc785125.aspx)\n",
    "\n",
    " - [Twitter Leoloobeek Scheduled Task](https://twitter.com/leoloobeek/status/939248813465853953)\n",
    "\n",
    " - [TechNet Forum Scheduled Task Operational Setting](https://social.technet.microsoft.com/Forums/en-US/e5bca729-52e7-4fcb-ba12-3225c564674c/scheduled-tasks-history-retention-settings?forum=winserver8gen)\n",
    "\n",
    " - [TechNet Scheduled Task Events](https://technet.microsoft.com/library/dd315590.aspx)\n",
    "\n",
    " - [Microsoft Scheduled Task Events Win10](https://docs.microsoft.com/en-us/windows/security/threat-protection/auditing/audit-other-object-access-events)\n",
    "\n",
    " - [TechNet Autoruns](https://technet.microsoft.com/en-us/sysinternals/bb963902)\n"
   ]
  }
 ],
 "metadata": {},
 "nbformat": 4,
 "nbformat_minor": 4
}
