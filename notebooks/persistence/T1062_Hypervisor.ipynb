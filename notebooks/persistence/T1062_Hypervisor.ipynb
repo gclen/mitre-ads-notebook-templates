{
 "cells": [
  {
   "cell_type": "markdown",
   "metadata": {},
   "source": [
    "## Goal\n",
    "\n",
    "## Categorization\n",
    "[Persistence/Hypervisor](https://attack.mitre.org/techniques/T1062)\n",
    "\n",
    "## Strategy Abstract\n",
    "\n",
    "## Technical Context\n",
    "\n",
    "## Blind Spots and Assumptions\n",
    "\n",
    "## False Positives\n",
    "\n",
    "## Priority\n",
    "\n",
    "## Validation\n",
    "\n",
    "## Response\n",
    "\n",
    "## Additional Resources\n",
    "\n",
    " - [capec](https://capec.mitre.org/data/definitions/552.html)\n",
    "\n",
    " - [Wikipedia Xen](http://en.wikipedia.org/wiki/Xen)\n",
    "\n",
    " - [Myers 2007](http://citeseerx.ist.psu.edu/viewdoc/download?doi=10.1.1.90.8832&rep=rep1&type=pdf)\n",
    "\n",
    " - [virtualization.info 2006](http://virtualization.info/en/news/2006/08/debunking-blue-pill-myth.html)\n",
    "\n",
    " - [Wikipedia Hypervisor](https://en.wikipedia.org/wiki/Hypervisor)\n"
   ]
  }
 ],
 "metadata": {},
 "nbformat": 4,
 "nbformat_minor": 4
}
