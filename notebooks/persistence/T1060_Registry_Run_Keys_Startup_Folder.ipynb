{
 "cells": [
  {
   "cell_type": "markdown",
   "metadata": {},
   "source": [
    "## Goal\n",
    "\n",
    "## Categorization\n",
    "[Persistence/Registry Run Keys / Startup Folder](https://attack.mitre.org/techniques/T1060)\n",
    "\n",
    "## Strategy Abstract\n",
    "\n",
    "## Technical Context\n",
    "\n",
    "## Blind Spots and Assumptions\n",
    "\n",
    "## False Positives\n",
    "\n",
    "## Priority\n",
    "\n",
    "## Validation\n",
    "\n",
    "## Response\n",
    "\n",
    "## Additional Resources\n",
    "\n",
    " - [capec](https://capec.mitre.org/data/definitions/270.html)\n",
    "\n",
    " - [Microsoft Run Key](http://msdn.microsoft.com/en-us/library/aa376977)\n",
    "\n",
    " - [Microsoft RunOnceEx APR 2018](https://support.microsoft.com/help/310593/description-of-the-runonceex-registry-key)\n",
    "\n",
    " - [Oddvar Moe RunOnceEx Mar 2018](https://oddvar.moe/2018/03/21/persistence-using-runonceex-hidden-from-autoruns-exe/)\n",
    "\n",
    " - [TechNet Autoruns](https://technet.microsoft.com/en-us/sysinternals/bb963902)\n"
   ]
  }
 ],
 "metadata": {},
 "nbformat": 4,
 "nbformat_minor": 4
}
