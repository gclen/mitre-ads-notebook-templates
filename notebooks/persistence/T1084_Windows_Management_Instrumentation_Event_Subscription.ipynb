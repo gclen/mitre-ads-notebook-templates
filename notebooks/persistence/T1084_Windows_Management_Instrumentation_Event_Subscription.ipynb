{
 "cells": [
  {
   "cell_type": "markdown",
   "metadata": {},
   "source": [
    "## Goal\n",
    "\n",
    "## Categorization\n",
    "[Persistence/Windows Management Instrumentation Event Subscription](https://attack.mitre.org/techniques/T1084)\n",
    "\n",
    "## Strategy Abstract\n",
    "\n",
    "## Technical Context\n",
    "\n",
    "## Blind Spots and Assumptions\n",
    "\n",
    "## False Positives\n",
    "\n",
    "## Priority\n",
    "\n",
    "## Validation\n",
    "\n",
    "## Response\n",
    "\n",
    "## Additional Resources\n",
    "\n",
    " - [Dell WMI Persistence](https://www.secureworks.com/blog/wmi-persistence)\n",
    "\n",
    " - [Kazanciyan 2014](https://www.defcon.org/images/defcon-22/dc-22-presentations/Kazanciyan-Hastings/DEFCON-22-Ryan-Kazanciyan-Matt-Hastings-Investigating-Powershell-Attacks.pdf)\n",
    "\n",
    " - [Mandiant M-Trends 2015](https://www2.fireeye.com/rs/fireye/images/rpt-m-trends-2015.pdf)\n",
    "\n",
    " - [TechNet Autoruns](https://technet.microsoft.com/en-us/sysinternals/bb963902)\n",
    "\n",
    " - [Medium Detecting WMI Persistence](https://medium.com/threatpunter/detecting-removing-wmi-persistence-60ccbb7dff96)\n"
   ]
  }
 ],
 "metadata": {},
 "nbformat": 4,
 "nbformat_minor": 4
}
