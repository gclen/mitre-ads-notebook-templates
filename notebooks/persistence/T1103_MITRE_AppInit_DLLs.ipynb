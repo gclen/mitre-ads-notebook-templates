{
 "cells": [
  {
   "cell_type": "markdown",
   "metadata": {},
   "source": [
    "## Goal\n",
    "\n",
    "## Categorization\n",
    "[Persistence/AppInit DLLs](https://attack.mitre.org/techniques/T1103)\n",
    "\n",
    "## Strategy Abstract\n",
    "\n",
    "## Technical Context\n",
    "\n",
    "## Blind Spots and Assumptions\n",
    "\n",
    "## False Positives\n",
    "\n",
    "## Priority\n",
    "\n",
    "## Validation\n",
    "\n",
    "## Response\n",
    "\n",
    "## Additional Resources\n",
    "\n",
    " - [Endgame Process Injection July 2017](https://www.endgame.com/blog/technical-blog/ten-process-injection-techniques-technical-survey-common-and-trending-process)\n",
    "\n",
    " - [AppInit Registry](https://support.microsoft.com/en-us/kb/197571)\n",
    "\n",
    " - [AppInit Secure Boot](https://msdn.microsoft.com/en-us/library/dn280412)\n",
    "\n",
    " - [TechNet Autoruns](https://technet.microsoft.com/en-us/sysinternals/bb963902)\n",
    "\n",
    "\n",
    "\n",
    "#### Related sigma rules\n",
    "\n",
    "- [New DLL Added to AppInit_DLLs Registry Key](https://github.com/Neo23x0/sigma/blob/master/rules/windows/sysmon/sysmon_new_dll_added_to_appinit_dlls_registry_key.yml)\n",
    "\n"
   ]
  }
 ],
 "metadata": {},
 "nbformat": 4,
 "nbformat_minor": 4
}
