{
 "cells": [
  {
   "cell_type": "markdown",
   "metadata": {},
   "source": [
    "## Goal\n",
    "\n",
    "## Categorization\n",
    "[Persistence/Server Software Component](https://attack.mitre.org/techniques/T1505)\n",
    "\n",
    "## Strategy Abstract\n",
    "\n",
    "## Technical Context\n",
    "\n",
    "## Blind Spots and Assumptions\n",
    "\n",
    "## False Positives\n",
    "\n",
    "## Priority\n",
    "\n",
    "## Validation\n",
    "\n",
    "## Response\n",
    "\n",
    "## Additional Resources\n",
    "\n",
    " - [Microsoft TransportAgent Jun 2016](https://docs.microsoft.com/en-us/exchange/transport-agents-exchange-2013-help)\n",
    "\n",
    " - [ESET LightNeuron May 2019](https://www.welivesecurity.com/wp-content/uploads/2019/05/ESET-LightNeuron.pdf)\n",
    "\n",
    " - [NetSPI Startup Stored Procedures](https://blog.netspi.com/sql-server-persistence-part-1-startup-stored-procedures/)\n",
    "\n",
    " - [Kaspersky MSSQL Aug 2019](https://securelist.com/malicious-tasks-in-ms-sql-server/92167/)\n",
    "\n",
    " - [Microsoft xp_cmdshell 2017](https://docs.microsoft.com/en-us/sql/relational-databases/system-stored-procedures/xp-cmdshell-transact-sql?view=sql-server-2017)\n",
    "\n",
    " - [Microsoft CLR Integration 2017](https://docs.microsoft.com/en-us/sql/relational-databases/clr-integration/common-language-runtime-integration-overview?view=sql-server-2017)\n",
    "\n",
    " - [NetSPI SQL Server CLR](https://blog.netspi.com/attacking-sql-server-clr-assemblies/)\n"
   ]
  }
 ],
 "metadata": {},
 "nbformat": 4,
 "nbformat_minor": 4
}
