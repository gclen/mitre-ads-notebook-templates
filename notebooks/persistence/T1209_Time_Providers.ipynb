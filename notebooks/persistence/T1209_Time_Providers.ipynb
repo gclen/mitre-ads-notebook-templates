{
 "cells": [
  {
   "cell_type": "markdown",
   "metadata": {},
   "source": [
    "## Goal\n",
    "\n",
    "## Categorization\n",
    "[Persistence/Time Providers](https://attack.mitre.org/techniques/T1209)\n",
    "\n",
    "## Strategy Abstract\n",
    "\n",
    "## Technical Context\n",
    "\n",
    "## Blind Spots and Assumptions\n",
    "\n",
    "## False Positives\n",
    "\n",
    "## Priority\n",
    "\n",
    "## Validation\n",
    "\n",
    "## Response\n",
    "\n",
    "## Additional Resources\n",
    "\n",
    " - [Microsoft W32Time Feb 2018](https://docs.microsoft.com/windows-server/networking/windows-time-service/windows-time-service-top)\n",
    "\n",
    " - [Microsoft TimeProvider](https://msdn.microsoft.com/library/windows/desktop/ms725475.aspx)\n",
    "\n",
    " - [Github W32Time Oct 2017](https://github.com/scottlundgren/w32time)\n",
    "\n",
    " - [Microsoft W32Time May 2017](https://docs.microsoft.com/windows-server/networking/windows-time-service/windows-time-service-tools-and-settings)\n",
    "\n",
    " - [TechNet Autoruns](https://technet.microsoft.com/en-us/sysinternals/bb963902)\n",
    "\n",
    "\n"
   ]
  }
 ],
 "metadata": {},
 "nbformat": 4,
 "nbformat_minor": 4
}
