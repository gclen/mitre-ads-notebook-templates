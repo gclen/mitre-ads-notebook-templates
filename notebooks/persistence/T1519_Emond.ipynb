{
 "cells": [
  {
   "cell_type": "markdown",
   "metadata": {},
   "source": [
    "## Goal\n",
    "\n",
    "## Categorization\n",
    "[Persistence/Emond](https://attack.mitre.org/techniques/T1519)\n",
    "\n",
    "## Strategy Abstract\n",
    "\n",
    "## Technical Context\n",
    "\n",
    "## Blind Spots and Assumptions\n",
    "\n",
    "## False Positives\n",
    "\n",
    "## Priority\n",
    "\n",
    "## Validation\n",
    "\n",
    "## Response\n",
    "\n",
    "## Additional Resources\n",
    "\n",
    " - [xorrior emond Jan 2018](https://www.xorrior.com/emond-persistence/)\n",
    "\n",
    " - [magnusviri emond Apr 2016](http://www.magnusviri.com/Mac/what-is-emond.html)\n",
    "\n",
    " - [sentinelone macos persist Jun 2019](https://www.sentinelone.com/blog/how-malware-persists-on-macos/)\n"
   ]
  }
 ],
 "metadata": {},
 "nbformat": 4,
 "nbformat_minor": 4
}
