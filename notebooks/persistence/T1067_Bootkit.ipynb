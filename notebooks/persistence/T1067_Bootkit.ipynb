{
 "cells": [
  {
   "cell_type": "markdown",
   "metadata": {},
   "source": [
    "## Goal\n",
    "\n",
    "## Categorization\n",
    "[Persistence/Bootkit](https://attack.mitre.org/techniques/T1067)\n",
    "\n",
    "## Strategy Abstract\n",
    "\n",
    "## Technical Context\n",
    "\n",
    "## Blind Spots and Assumptions\n",
    "\n",
    "## False Positives\n",
    "\n",
    "## Priority\n",
    "\n",
    "## Validation\n",
    "\n",
    "## Response\n",
    "\n",
    "## Additional Resources\n",
    "\n",
    " - [MTrends 2016](https://www.fireeye.com/content/dam/fireeye-www/regional/fr_FR/offers/pdfs/ig-mtrends-2016.pdf)\n",
    "\n",
    " - [Lau 2011](http://www.symantec.com/connect/blogs/are-mbr-infections-back-fashion)\n"
   ]
  }
 ],
 "metadata": {},
 "nbformat": 4,
 "nbformat_minor": 4
}
