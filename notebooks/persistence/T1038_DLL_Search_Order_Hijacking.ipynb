{
 "cells": [
  {
   "cell_type": "markdown",
   "metadata": {},
   "source": [
    "## Goal\n",
    "\n",
    "## Categorization\n",
    "[Persistence/DLL Search Order Hijacking](https://attack.mitre.org/techniques/T1038)\n",
    "\n",
    "## Strategy Abstract\n",
    "\n",
    "## Technical Context\n",
    "\n",
    "## Blind Spots and Assumptions\n",
    "\n",
    "## False Positives\n",
    "\n",
    "## Priority\n",
    "\n",
    "## Validation\n",
    "\n",
    "## Response\n",
    "\n",
    "## Additional Resources\n",
    "\n",
    " - [capec](https://capec.mitre.org/data/definitions/471.html)\n",
    "\n",
    " - [Microsoft DLL Search](http://msdn.microsoft.com/en-US/library/ms682586)\n",
    "\n",
    " - [OWASP Binary Planting](https://www.owasp.org/index.php/Binary_planting)\n",
    "\n",
    " - [Microsoft 2269637](http://blogs.technet.com/b/msrc/archive/2010/08/21/microsoft-security-advisory-2269637-released.aspx)\n",
    "\n",
    " - [Microsoft DLL Redirection](http://msdn.microsoft.com/en-US/library/ms682600)\n",
    "\n",
    " - [Microsoft Manifests](https://msdn.microsoft.com/en-US/library/aa375365)\n",
    "\n",
    " - [Mandiant Search Order](https://www.mandiant.com/blog/dll-search-order-hijacking-revisited/)\n"
   ]
  }
 ],
 "metadata": {},
 "nbformat": 4,
 "nbformat_minor": 4
}
