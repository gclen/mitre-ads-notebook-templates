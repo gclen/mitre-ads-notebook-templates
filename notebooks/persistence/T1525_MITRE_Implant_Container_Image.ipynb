{
 "cells": [
  {
   "cell_type": "markdown",
   "metadata": {},
   "source": [
    "## Goal\n",
    "\n",
    "## Categorization\n",
    "[Persistence/Implant Container Image](https://attack.mitre.org/techniques/T1525)\n",
    "\n",
    "## Strategy Abstract\n",
    "\n",
    "## Technical Context\n",
    "\n",
    "## Blind Spots and Assumptions\n",
    "\n",
    "## False Positives\n",
    "\n",
    "## Priority\n",
    "\n",
    "## Validation\n",
    "\n",
    "## Response\n",
    "\n",
    "## Additional Resources\n",
    "\n",
    " - [Rhino Labs Cloud Image Backdoor Technique Sept 2019](https://rhinosecuritylabs.com/aws/cloud-container-attack-tool/)\n",
    "\n",
    " - [Rhino Labs Cloud Backdoor September 2019](https://github.com/RhinoSecurityLabs/ccat)\n",
    "\n",
    " - [ATT Cybersecurity Cryptocurrency Attacks on Cloud](https://www.alienvault.com/blogs/labs-research/making-it-rain-cryptocurrency-mining-attacks-in-the-cloud)\n",
    "\n",
    "\n"
   ]
  }
 ],
 "metadata": {},
 "nbformat": 4,
 "nbformat_minor": 4
}
