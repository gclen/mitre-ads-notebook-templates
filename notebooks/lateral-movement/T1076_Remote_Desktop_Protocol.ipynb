{
 "cells": [
  {
   "cell_type": "markdown",
   "metadata": {},
   "source": [
    "## Goal\n",
    "\n",
    "## Categorization\n",
    "[Lateral Movement/Remote Desktop Protocol](https://attack.mitre.org/techniques/T1076)\n",
    "\n",
    "## Strategy Abstract\n",
    "\n",
    "## Technical Context\n",
    "\n",
    "## Blind Spots and Assumptions\n",
    "\n",
    "## False Positives\n",
    "\n",
    "## Priority\n",
    "\n",
    "## Validation\n",
    "\n",
    "## Response\n",
    "\n",
    "## Additional Resources\n",
    "\n",
    " - [capec](https://capec.mitre.org/data/definitions/555.html)\n",
    "\n",
    " - [TechNet Remote Desktop Services](https://technet.microsoft.com/en-us/windowsserver/ee236407.aspx)\n",
    "\n",
    " - [Alperovitch Malware](http://blog.crowdstrike.com/adversary-tricks-crowdstrike-treats/)\n",
    "\n",
    " - [RDP Hijacking Korznikov](http://www.korznikov.com/2017/03/0-day-or-feature-privilege-escalation.html)\n",
    "\n",
    " - [RDP Hijacking Medium](https://medium.com/@networksecurity/rdp-hijacking-how-to-hijack-rds-and-remoteapp-sessions-transparently-to-move-through-an-da2a1e73a5f6)\n",
    "\n",
    " - [Kali Redsnarf](https://github.com/nccgroup/redsnarf)\n"
   ]
  }
 ],
 "metadata": {},
 "nbformat": 4,
 "nbformat_minor": 4
}
