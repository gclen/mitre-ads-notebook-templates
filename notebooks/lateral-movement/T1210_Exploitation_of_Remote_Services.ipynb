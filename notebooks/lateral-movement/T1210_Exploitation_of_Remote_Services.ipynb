{
 "cells": [
  {
   "cell_type": "markdown",
   "metadata": {},
   "source": [
    "## Goal\n",
    "\n",
    "## Categorization\n",
    "[Lateral Movement/Exploitation of Remote Services](https://attack.mitre.org/techniques/T1210)\n",
    "\n",
    "## Strategy Abstract\n",
    "\n",
    "## Technical Context\n",
    "\n",
    "## Blind Spots and Assumptions\n",
    "\n",
    "## False Positives\n",
    "\n",
    "## Priority\n",
    "\n",
    "## Validation\n",
    "\n",
    "## Response\n",
    "\n",
    "## Additional Resources\n",
    "\n",
    " - [CIS Multiple SMB Vulnerabilities](https://www.cisecurity.org/advisory/multiple-vulnerabilities-in-microsoft-windows-smb-server-could-allow-for-remote-code-execution/)\n",
    "\n",
    " - [NVD CVE-2017-0176](https://nvd.nist.gov/vuln/detail/CVE-2017-0176)\n",
    "\n",
    " - [NVD CVE-2016-6662](https://nvd.nist.gov/vuln/detail/CVE-2016-6662)\n",
    "\n",
    " - [NVD CVE-2014-7169](https://nvd.nist.gov/vuln/detail/CVE-2014-7169)\n"
   ]
  }
 ],
 "metadata": {},
 "nbformat": 4,
 "nbformat_minor": 4
}
