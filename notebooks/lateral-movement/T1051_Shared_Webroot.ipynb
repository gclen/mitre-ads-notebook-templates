{
 "cells": [
  {
   "cell_type": "markdown",
   "metadata": {},
   "source": [
    "## Goal\n",
    "\n",
    "## Categorization\n",
    "[Lateral Movement/Shared Webroot](https://attack.mitre.org/techniques/T1051)\n",
    "\n",
    "## Strategy Abstract\n",
    "\n",
    "## Technical Context\n",
    "\n",
    "## Blind Spots and Assumptions\n",
    "\n",
    "## False Positives\n",
    "\n",
    "## Priority\n",
    "\n",
    "## Validation\n",
    "\n",
    "## Response\n",
    "\n",
    "## Additional Resources\n",
    "\n",
    " - [capec](https://capec.mitre.org/data/definitions/563.html)\n",
    "\n",
    " - [Microsoft Web Root OCT 2016]()\n",
    "\n",
    " - [Apache Server 2018](http://httpd.apache.org/docs/2.4/getting-started.html#content)\n",
    "\n",
    " - [Webroot PHP 2011](https://www.webroot.com/blog/2011/02/22/malicious-php-scripts-on-the-rise/)\n"
   ]
  }
 ],
 "metadata": {},
 "nbformat": 4,
 "nbformat_minor": 4
}
