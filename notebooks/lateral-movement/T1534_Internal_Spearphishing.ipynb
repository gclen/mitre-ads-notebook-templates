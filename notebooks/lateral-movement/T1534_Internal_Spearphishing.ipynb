{
 "cells": [
  {
   "cell_type": "markdown",
   "metadata": {},
   "source": [
    "## Goal\n",
    "\n",
    "## Categorization\n",
    "[Lateral Movement/Internal Spearphishing](https://attack.mitre.org/techniques/T1534)\n",
    "\n",
    "## Strategy Abstract\n",
    "\n",
    "## Technical Context\n",
    "\n",
    "## Blind Spots and Assumptions\n",
    "\n",
    "## False Positives\n",
    "\n",
    "## Priority\n",
    "\n",
    "## Validation\n",
    "\n",
    "## Response\n",
    "\n",
    "## Additional Resources\n",
    "\n",
    " - [Trend Micro When Phishing Starts from the Inside 2017](https://blog.trendmicro.com/phishing-starts-inside/)\n",
    "\n",
    " - [THE FINANCIAL TIMES LTD 2019.]( https://labs.ft.com/2013/05/a-sobering-day/?mhq5j=e6 )\n"
   ]
  }
 ],
 "metadata": {},
 "nbformat": 4,
 "nbformat_minor": 4
}
