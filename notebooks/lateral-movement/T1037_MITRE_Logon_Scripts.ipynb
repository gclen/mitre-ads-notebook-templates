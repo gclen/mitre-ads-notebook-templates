{
 "cells": [
  {
   "cell_type": "markdown",
   "metadata": {},
   "source": [
    "## Goal\n",
    "\n",
    "## Categorization\n",
    "[Lateral Movement/Logon Scripts](https://attack.mitre.org/techniques/T1037)\n",
    "\n",
    "## Strategy Abstract\n",
    "\n",
    "## Technical Context\n",
    "\n",
    "## Blind Spots and Assumptions\n",
    "\n",
    "## False Positives\n",
    "\n",
    "## Priority\n",
    "\n",
    "## Validation\n",
    "\n",
    "## Response\n",
    "\n",
    "## Additional Resources\n",
    "\n",
    " - [capec](https://capec.mitre.org/data/definitions/564.html)\n",
    "\n",
    " - [TechNet Logon Scripts](https://technet.microsoft.com/en-us/library/cc758918(v=ws.10).aspx)\n",
    "\n",
    " - [creating login hook](https://support.apple.com/de-at/HT2420)\n",
    "\n",
    "\n",
    "\n",
    "#### Related sigma rules\n",
    "\n",
    "- [Logon Scripts (UserInitMprLogonScript)](https://github.com/Neo23x0/sigma/blob/master/rules/windows/sysmon/sysmon_logon_scripts_userinitmprlogonscript.yml)\n",
    "\n"
   ]
  }
 ],
 "metadata": {},
 "nbformat": 4,
 "nbformat_minor": 4
}
