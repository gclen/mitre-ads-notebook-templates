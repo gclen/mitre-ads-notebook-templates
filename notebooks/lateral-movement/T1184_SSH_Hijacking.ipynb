{
 "cells": [
  {
   "cell_type": "markdown",
   "metadata": {},
   "source": [
    "## Goal\n",
    "\n",
    "## Categorization\n",
    "[Lateral Movement/SSH Hijacking](https://attack.mitre.org/techniques/T1184)\n",
    "\n",
    "## Strategy Abstract\n",
    "\n",
    "## Technical Context\n",
    "\n",
    "## Blind Spots and Assumptions\n",
    "\n",
    "## False Positives\n",
    "\n",
    "## Priority\n",
    "\n",
    "## Validation\n",
    "\n",
    "## Response\n",
    "\n",
    "## Additional Resources\n",
    "\n",
    " - [Slideshare Abusing SSH](https://www.slideshare.net/morisson/mistrusting-and-abusing-ssh-13526219)\n",
    "\n",
    " - [SSHjack Blackhat](https://www.blackhat.com/presentations/bh-usa-05/bh-us-05-boileau.pdf)\n",
    "\n",
    " - [Clockwork SSH Agent Hijacking](https://www.clockwork.com/news/2012/09/28/602/ssh_agent_hijacking)\n",
    "\n",
    " - [Welivesecurity Ebury SSH](https://www.welivesecurity.com/2014/02/21/an-in-depth-analysis-of-linuxebury/)\n"
   ]
  }
 ],
 "metadata": {},
 "nbformat": 4,
 "nbformat_minor": 4
}
