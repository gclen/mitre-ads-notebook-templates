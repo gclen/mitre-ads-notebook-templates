{
 "cells": [
  {
   "cell_type": "markdown",
   "metadata": {},
   "source": [
    "## Goal\n",
    "\n",
    "## Categorization\n",
    "[Lateral Movement/Third-party Software](https://attack.mitre.org/techniques/T1072)\n",
    "\n",
    "## Strategy Abstract\n",
    "\n",
    "## Technical Context\n",
    "\n",
    "## Blind Spots and Assumptions\n",
    "\n",
    "## False Positives\n",
    "\n",
    "## Priority\n",
    "\n",
    "## Validation\n",
    "\n",
    "## Response\n",
    "\n",
    "## Additional Resources\n",
    "\n",
    "\n"
   ]
  }
 ],
 "metadata": {},
 "nbformat": 4,
 "nbformat_minor": 4
}
