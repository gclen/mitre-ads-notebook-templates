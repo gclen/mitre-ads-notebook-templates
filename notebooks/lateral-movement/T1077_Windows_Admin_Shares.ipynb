{
 "cells": [
  {
   "cell_type": "markdown",
   "metadata": {},
   "source": [
    "## Goal\n",
    "\n",
    "## Categorization\n",
    "[Lateral Movement/Windows Admin Shares](https://attack.mitre.org/techniques/T1077)\n",
    "\n",
    "## Strategy Abstract\n",
    "\n",
    "## Technical Context\n",
    "\n",
    "## Blind Spots and Assumptions\n",
    "\n",
    "## False Positives\n",
    "\n",
    "## Priority\n",
    "\n",
    "## Validation\n",
    "\n",
    "## Response\n",
    "\n",
    "## Additional Resources\n",
    "\n",
    " - [capec](https://capec.mitre.org/data/definitions/561.html)\n",
    "\n",
    " - [Wikipedia SMB](https://en.wikipedia.org/wiki/Server_Message_Block)\n",
    "\n",
    " - [TechNet RPC](https://technet.microsoft.com/en-us/library/cc787851.aspx)\n",
    "\n",
    " - [Microsoft Admin Shares](http://support.microsoft.com/kb/314984)\n",
    "\n",
    " - [Technet Net Use](https://technet.microsoft.com/bb490717.aspx)\n",
    "\n",
    " - [Lateral Movement Payne](http://blogs.technet.com/b/jepayne/archive/2015/11/27/tracking-lateral-movement-part-one-special-groups-and-specific-service-accounts.aspx)\n",
    "\n",
    " - [Windows Event Forwarding Payne](http://blogs.technet.com/b/jepayne/archive/2015/11/24/monitoring-what-matters-windows-event-forwarding-for-everyone-even-if-you-already-have-a-siem.aspx)\n",
    "\n",
    " - [Medium Detecting Lateral Movement](https://medium.com/threatpunter/detecting-lateral-movement-using-sysmon-and-splunk-318d3be141bc)\n"
   ]
  }
 ],
 "metadata": {},
 "nbformat": 4,
 "nbformat_minor": 4
}
