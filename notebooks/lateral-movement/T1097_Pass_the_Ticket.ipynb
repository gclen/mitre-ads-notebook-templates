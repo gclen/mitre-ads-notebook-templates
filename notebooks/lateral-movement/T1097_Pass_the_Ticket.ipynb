{
 "cells": [
  {
   "cell_type": "markdown",
   "metadata": {},
   "source": [
    "## Goal\n",
    "\n",
    "## Categorization\n",
    "[Lateral Movement/Pass the Ticket](https://attack.mitre.org/techniques/T1097)\n",
    "\n",
    "## Strategy Abstract\n",
    "\n",
    "## Technical Context\n",
    "\n",
    "## Blind Spots and Assumptions\n",
    "\n",
    "## False Positives\n",
    "\n",
    "## Priority\n",
    "\n",
    "## Validation\n",
    "\n",
    "## Response\n",
    "\n",
    "## Additional Resources\n",
    "\n",
    " - [capec](https://capec.mitre.org/data/definitions/645.html)\n",
    "\n",
    " - [ADSecurity AD Kerberos Attacks](https://adsecurity.org/?p=556)\n",
    "\n",
    " - [GentilKiwi Pass the Ticket](http://blog.gentilkiwi.com/securite/mimikatz/pass-the-ticket-kerberos)\n",
    "\n",
    " - [Campbell 2014](http://defcon.org/images/defcon-22/dc-22-presentations/Campbell/DEFCON-22-Christopher-Campbell-The-Secret-Life-of-Krbtgt.pdf)\n",
    "\n",
    " - [CERT-EU Golden Ticket Protection](https://cert.europa.eu/static/WhitePapers/UPDATED%20-%20CERT-EU_Security_Whitepaper_2014-007_Kerberos_Golden_Ticket_Protection_v1_4.pdf)\n"
   ]
  }
 ],
 "metadata": {},
 "nbformat": 4,
 "nbformat_minor": 4
}
