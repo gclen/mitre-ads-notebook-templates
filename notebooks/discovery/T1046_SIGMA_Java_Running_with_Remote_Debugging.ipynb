{
 "cells": [
  {
   "cell_type": "markdown",
   "metadata": {},
   "source": [
    "## Goal\n",
    "\n",
    "## Categorization\n",
    "[Discovery/Network Service Scanning](https://attack.mitre.org/techniques/T1046)\n",
    "\n",
    "## Strategy Abstract\n",
    "\n",
    "## Technical Context\n",
    "\n",
    "## Blind Spots and Assumptions\n",
    "\n",
    "## False Positives\n",
    "\n",
    "## Priority\n",
    "\n",
    "## Validation\n",
    "\n",
    "## Response\n",
    "\n",
    "## Additional Resources\n",
    "\n",
    " - [capec](https://capec.mitre.org/data/definitions/300.html)\n",
    "\n",
    "\n",
    "\n",
    "#### Related sigma rules\n",
    "\n",
    "- [Java Running with Remote Debugging](https://github.com/Neo23x0/sigma/blob/master/rules/windows/process_creation/win_vul_java_remote_debugging.yml)\n",
    "\n"
   ]
  }
 ],
 "metadata": {},
 "nbformat": 4,
 "nbformat_minor": 4
}
