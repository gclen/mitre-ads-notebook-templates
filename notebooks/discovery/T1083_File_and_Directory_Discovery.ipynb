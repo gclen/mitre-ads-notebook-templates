{
 "cells": [
  {
   "cell_type": "markdown",
   "metadata": {},
   "source": [
    "## Goal\n",
    "\n",
    "## Categorization\n",
    "[Discovery/File and Directory Discovery](https://attack.mitre.org/techniques/T1083)\n",
    "\n",
    "## Strategy Abstract\n",
    "\n",
    "## Technical Context\n",
    "\n",
    "## Blind Spots and Assumptions\n",
    "\n",
    "## False Positives\n",
    "\n",
    "## Priority\n",
    "\n",
    "## Validation\n",
    "\n",
    "## Response\n",
    "\n",
    "## Additional Resources\n",
    "\n",
    " - [Windows Commands JPCERT](http://blog.jpcert.or.jp/2016/01/windows-commands-abused-by-attackers.html)\n",
    "\n",
    "\n",
    "\n",
    "#### Related sigma rules\n",
    "\n",
    "- [Turla Group Lateral Movement](https://github.com/Neo23x0/sigma/blob/master/rules/windows/process_creation/win_apt_turla_commands.yml)\n",
    "\n",
    "- [Cisco Discovery](https://github.com/Neo23x0/sigma/blob/master/rules/network/cisco/aaa/cisco_cli_discovery.yml)\n",
    "\n"
   ]
  }
 ],
 "metadata": {},
 "nbformat": 4,
 "nbformat_minor": 4
}
