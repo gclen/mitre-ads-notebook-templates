{
 "cells": [
  {
   "cell_type": "markdown",
   "metadata": {},
   "source": [
    "## Goal\n",
    "\n",
    "## Categorization\n",
    "[Discovery/Network Share Discovery](https://attack.mitre.org/techniques/T1135)\n",
    "\n",
    "## Strategy Abstract\n",
    "\n",
    "## Technical Context\n",
    "\n",
    "## Blind Spots and Assumptions\n",
    "\n",
    "## False Positives\n",
    "\n",
    "## Priority\n",
    "\n",
    "## Validation\n",
    "\n",
    "## Response\n",
    "\n",
    "## Additional Resources\n",
    "\n",
    " - [capec](https://capec.mitre.org/data/definitions/643.html)\n",
    "\n",
    " - [Wikipedia Shared Resource](https://en.wikipedia.org/wiki/Shared_resource)\n",
    "\n",
    " - [TechNet Shared Folder](https://technet.microsoft.com/library/cc770880.aspx)\n",
    "\n",
    " - [Amazon Creating an NFS File Share](https://docs.aws.amazon.com/storagegateway/latest/userguide/CreatingAnNFSFileShare.html)\n",
    "\n",
    " - [Google File servers on Compute Engine](https://cloud.google.com/solutions/filers-on-compute-engine)\n"
   ]
  }
 ],
 "metadata": {},
 "nbformat": 4,
 "nbformat_minor": 4
}
