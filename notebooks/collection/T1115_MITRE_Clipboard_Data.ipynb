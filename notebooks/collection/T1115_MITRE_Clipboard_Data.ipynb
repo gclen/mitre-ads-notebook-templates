{
 "cells": [
  {
   "cell_type": "markdown",
   "metadata": {},
   "source": [
    "## Goal\n",
    "\n",
    "## Categorization\n",
    "[Collection/Clipboard Data](https://attack.mitre.org/techniques/T1115)\n",
    "\n",
    "## Strategy Abstract\n",
    "\n",
    "## Technical Context\n",
    "\n",
    "## Blind Spots and Assumptions\n",
    "\n",
    "## False Positives\n",
    "\n",
    "## Priority\n",
    "\n",
    "## Validation\n",
    "\n",
    "## Response\n",
    "\n",
    "## Additional Resources\n",
    "\n",
    " - [capec](https://capec.mitre.org/data/definitions/637.html)\n",
    "\n",
    " - [MSDN Clipboard](https://msdn.microsoft.com/en-us/library/ms649012)\n",
    "\n",
    " - [Operating with EmPyre](http://www.rvrsh3ll.net/blog/empyre/operating-with-empyre/)\n",
    "\n",
    "\n"
   ]
  }
 ],
 "metadata": {},
 "nbformat": 4,
 "nbformat_minor": 4
}
