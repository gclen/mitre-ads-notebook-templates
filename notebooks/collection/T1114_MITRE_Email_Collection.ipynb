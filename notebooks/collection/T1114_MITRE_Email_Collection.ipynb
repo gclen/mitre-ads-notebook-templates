{
 "cells": [
  {
   "cell_type": "markdown",
   "metadata": {},
   "source": [
    "## Goal\n",
    "\n",
    "## Categorization\n",
    "[Collection/Email Collection](https://attack.mitre.org/techniques/T1114)\n",
    "\n",
    "## Strategy Abstract\n",
    "\n",
    "## Technical Context\n",
    "\n",
    "## Blind Spots and Assumptions\n",
    "\n",
    "## False Positives\n",
    "\n",
    "## Priority\n",
    "\n",
    "## Validation\n",
    "\n",
    "## Response\n",
    "\n",
    "## Additional Resources\n",
    "\n",
    " - [Black Hills MailSniper, 2017](https://www.blackhillsinfosec.com/abusing-exchange-mailbox-permissions-mailsniper/)\n",
    "\n",
    " - [US-CERT TA18-068A 2018](https://www.us-cert.gov/ncas/alerts/TA18-086A)\n",
    "\n",
    " - [TIMMCMIC, 2014](https://blogs.technet.microsoft.com/timmcmic/2014/07/28/exchange-and-office-365-mail-forwarding/)\n",
    "\n",
    " - [Microsoft Tim McMichael Exchange Mail Forwarding 2](https://blogs.technet.microsoft.com/timmcmic/2015/06/08/exchange-and-office-365-mail-forwarding-2/)\n",
    "\n",
    "\n",
    "\n",
    "#### Related sigma rules\n",
    "\n",
    "- [Hacktool Ruler](https://github.com/Neo23x0/sigma/blob/master/rules/windows/builtin/win_alert_ruler.yml)\n",
    "\n"
   ]
  }
 ],
 "metadata": {},
 "nbformat": 4,
 "nbformat_minor": 4
}
