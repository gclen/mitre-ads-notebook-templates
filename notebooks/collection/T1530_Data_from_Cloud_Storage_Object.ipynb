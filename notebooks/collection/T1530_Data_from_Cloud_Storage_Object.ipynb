{
 "cells": [
  {
   "cell_type": "markdown",
   "metadata": {},
   "source": [
    "## Goal\n",
    "\n",
    "## Categorization\n",
    "[Collection/Data from Cloud Storage Object](https://attack.mitre.org/techniques/T1530)\n",
    "\n",
    "## Strategy Abstract\n",
    "\n",
    "## Technical Context\n",
    "\n",
    "## Blind Spots and Assumptions\n",
    "\n",
    "## False Positives\n",
    "\n",
    "## Priority\n",
    "\n",
    "## Validation\n",
    "\n",
    "## Response\n",
    "\n",
    "## Additional Resources\n",
    "\n",
    " - [Amazon S3 Security, 2019](https://aws.amazon.com/premiumsupport/knowledge-center/secure-s3-resources/)\n",
    "\n",
    " - [Microsoft Azure Storage Security, 2019](https://docs.microsoft.com/en-us/azure/storage/common/storage-security-guide)\n",
    "\n",
    " - [Google Cloud Storage Best Practices, 2019](https://cloud.google.com/storage/docs/best-practices)\n",
    "\n",
    " - [Trend Micro S3 Exposed PII, 2017](https://www.trendmicro.com/vinfo/us/security/news/virtualization-and-cloud/a-misconfigured-amazon-s3-exposed-almost-50-thousand-pii-in-australia)\n",
    "\n",
    " - [Wired Magecart S3 Buckets, 2019](https://www.wired.com/story/magecart-amazon-cloud-hacks/)\n",
    "\n",
    " - [HIPAA Journal S3 Breach, 2017](https://www.hipaajournal.com/47gb-medical-records-unsecured-amazon-s3-bucket/)\n"
   ]
  }
 ],
 "metadata": {},
 "nbformat": 4,
 "nbformat_minor": 4
}
