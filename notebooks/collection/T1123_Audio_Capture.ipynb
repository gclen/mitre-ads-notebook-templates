{
 "cells": [
  {
   "cell_type": "markdown",
   "metadata": {},
   "source": [
    "## Goal\n",
    "\n",
    "## Categorization\n",
    "[Collection/Audio Capture](https://attack.mitre.org/techniques/T1123)\n",
    "\n",
    "## Strategy Abstract\n",
    "\n",
    "## Technical Context\n",
    "\n",
    "## Blind Spots and Assumptions\n",
    "\n",
    "## False Positives\n",
    "\n",
    "## Priority\n",
    "\n",
    "## Validation\n",
    "\n",
    "## Response\n",
    "\n",
    "## Additional Resources\n",
    "\n",
    " - [capec](https://capec.mitre.org/data/definitions/634.html)\n",
    "\n",
    "\n",
    "\n",
    "#### Related sigma rules\n",
    "\n",
    "- [Audio Capture via PowerShell](https://github.com/Neo23x0/sigma/blob/master/rules/windows/process_creation/win_powershell_audio_capture.yml)\n",
    "\n",
    "- [Audio Capture via SoundRecorder](https://github.com/Neo23x0/sigma/blob/master/rules/windows/process_creation/win_soundrec_audio_capture.yml)\n",
    "\n"
   ]
  }
 ],
 "metadata": {},
 "nbformat": 4,
 "nbformat_minor": 4
}
