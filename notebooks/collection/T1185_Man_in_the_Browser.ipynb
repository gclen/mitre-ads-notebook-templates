{
 "cells": [
  {
   "cell_type": "markdown",
   "metadata": {},
   "source": [
    "## Goal\n",
    "\n",
    "## Categorization\n",
    "[Collection/Man in the Browser](https://attack.mitre.org/techniques/T1185)\n",
    "\n",
    "## Strategy Abstract\n",
    "\n",
    "## Technical Context\n",
    "\n",
    "## Blind Spots and Assumptions\n",
    "\n",
    "## False Positives\n",
    "\n",
    "## Priority\n",
    "\n",
    "## Validation\n",
    "\n",
    "## Response\n",
    "\n",
    "## Additional Resources\n",
    "\n",
    " - [Wikipedia Man in the Browser](https://en.wikipedia.org/wiki/Man-in-the-browser)\n",
    "\n",
    " - [Cobalt Strike Browser Pivot](https://www.cobaltstrike.com/help-browser-pivoting)\n",
    "\n",
    " - [ICEBRG Chrome Extensions](https://www.icebrg.io/blog/malicious-chrome-extensions-enable-criminals-to-impact-over-half-a-million-users-and-global-businesses)\n",
    "\n",
    " - [cobaltstrike manual](https://cobaltstrike.com/downloads/csmanual38.pdf)\n"
   ]
  }
 ],
 "metadata": {},
 "nbformat": 4,
 "nbformat_minor": 4
}
