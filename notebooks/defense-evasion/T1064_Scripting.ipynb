{
 "cells": [
  {
   "cell_type": "markdown",
   "metadata": {},
   "source": [
    "## Goal\n",
    "\n",
    "## Categorization\n",
    "[Defense Evasion/Scripting](https://attack.mitre.org/techniques/T1064)\n",
    "\n",
    "## Strategy Abstract\n",
    "\n",
    "## Technical Context\n",
    "\n",
    "## Blind Spots and Assumptions\n",
    "\n",
    "## False Positives\n",
    "\n",
    "## Priority\n",
    "\n",
    "## Validation\n",
    "\n",
    "## Response\n",
    "\n",
    "## Additional Resources\n",
    "\n",
    " - [Metasploit_Ref](http://www.metasploit.com)\n",
    "\n",
    " - [Veil_Ref](https://www.veil-framework.com/framework/)\n",
    "\n",
    " - [Powersploit](https://github.com/mattifestation/PowerSploit)\n",
    "\n",
    " - [Alperovitch 2014](https://blog.crowdstrike.com/deep-thought-chinese-targeting-national-security-think-tanks/)\n",
    "\n",
    " - [Uperesia Malicious Office Documents](https://www.uperesia.com/analyzing-malicious-office-documents)\n"
   ]
  }
 ],
 "metadata": {},
 "nbformat": 4,
 "nbformat_minor": 4
}
