{
 "cells": [
  {
   "cell_type": "markdown",
   "metadata": {},
   "source": [
    "## Goal\n",
    "\n",
    "## Categorization\n",
    "[Defense Evasion/DCShadow](https://attack.mitre.org/techniques/T1207)\n",
    "\n",
    "## Strategy Abstract\n",
    "\n",
    "## Technical Context\n",
    "\n",
    "## Blind Spots and Assumptions\n",
    "\n",
    "## False Positives\n",
    "\n",
    "## Priority\n",
    "\n",
    "## Validation\n",
    "\n",
    "## Response\n",
    "\n",
    "## Additional Resources\n",
    "\n",
    " - [DCShadow Blog](https://www.dcshadow.com/)\n",
    "\n",
    " - [BlueHat DCShadow Jan 2018]()\n",
    "\n",
    " - [Adsecurity Mimikatz Guide](https://adsecurity.org/?page_id=1821)\n",
    "\n",
    " - [GitHub DCSYNCMonitor](https://github.com/shellster/DCSYNCMonitor)\n",
    "\n",
    " - [ADDSecurity DCShadow Feb 2018](https://adds-security.blogspot.fr/2018/02/detecter-dcshadow-impossible.html)\n",
    "\n",
    " - [Microsoft DirSync](https://msdn.microsoft.com/en-us/library/ms677626.aspx)\n",
    "\n",
    "\n"
   ]
  }
 ],
 "metadata": {},
 "nbformat": 4,
 "nbformat_minor": 4
}
