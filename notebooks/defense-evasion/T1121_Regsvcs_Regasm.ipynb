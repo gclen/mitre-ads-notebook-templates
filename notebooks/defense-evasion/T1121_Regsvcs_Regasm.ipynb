{
 "cells": [
  {
   "cell_type": "markdown",
   "metadata": {},
   "source": [
    "## Goal\n",
    "\n",
    "## Categorization\n",
    "[Defense Evasion/Regsvcs/Regasm](https://attack.mitre.org/techniques/T1121)\n",
    "\n",
    "## Strategy Abstract\n",
    "\n",
    "## Technical Context\n",
    "\n",
    "## Blind Spots and Assumptions\n",
    "\n",
    "## False Positives\n",
    "\n",
    "## Priority\n",
    "\n",
    "## Validation\n",
    "\n",
    "## Response\n",
    "\n",
    "## Additional Resources\n",
    "\n",
    " - [MSDN Regsvcs](https://msdn.microsoft.com/en-us/library/04za0hca.aspx)\n",
    "\n",
    " - [MSDN Regasm](https://msdn.microsoft.com/en-us/library/tzat5yw6.aspx)\n",
    "\n",
    " - [LOLBAS Regsvcs](https://lolbas-project.github.io/lolbas/Binaries/Regsvcs/)\n",
    "\n",
    " - [LOLBAS Regasm](https://lolbas-project.github.io/lolbas/Binaries/Regasm/)\n",
    "\n",
    "\n",
    "\n",
    "#### Related sigma rules\n",
    "\n",
    "- [Possible Applocker Bypass](https://github.com/Neo23x0/sigma/blob/master/rules/windows/process_creation/win_possible_applocker_bypass.yml)\n",
    "\n"
   ]
  }
 ],
 "metadata": {},
 "nbformat": 4,
 "nbformat_minor": 4
}
