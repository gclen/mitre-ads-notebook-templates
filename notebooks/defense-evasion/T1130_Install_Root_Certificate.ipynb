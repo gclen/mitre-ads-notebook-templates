{
 "cells": [
  {
   "cell_type": "markdown",
   "metadata": {},
   "source": [
    "## Goal\n",
    "\n",
    "## Categorization\n",
    "[Defense Evasion/Install Root Certificate](https://attack.mitre.org/techniques/T1130)\n",
    "\n",
    "## Strategy Abstract\n",
    "\n",
    "## Technical Context\n",
    "\n",
    "## Blind Spots and Assumptions\n",
    "\n",
    "## False Positives\n",
    "\n",
    "## Priority\n",
    "\n",
    "## Validation\n",
    "\n",
    "## Response\n",
    "\n",
    "## Additional Resources\n",
    "\n",
    " - [capec](https://capec.mitre.org/data/definitions/479.html)\n",
    "\n",
    " - [Wikipedia Root Certificate](https://en.wikipedia.org/wiki/Root_certificate)\n",
    "\n",
    " - [Operation Emmental](http://www.trendmicro.com/cloud-content/us/pdfs/security-intelligence/white-papers/wp-finding-holes-operation-emmental.pdf)\n",
    "\n",
    " - [Kaspersky Superfish](https://www.kaspersky.com/blog/lenovo-pc-with-adware-superfish-preinstalled/7712/)\n",
    "\n",
    " - [SpectorOps Code Signing Dec 2017](https://posts.specterops.io/code-signing-certificate-cloning-attacks-and-defenses-6f98657fc6ec)\n",
    "\n",
    " - [objective-see ay mami 2018](https://objective-see.com/blog/blog_0x26.html)\n",
    "\n",
    " - [Microsoft Sigcheck May 2017](https://docs.microsoft.com/sysinternals/downloads/sigcheck)\n",
    "\n",
    " - [Tripwire AppUNBlocker](https://www.tripwire.com/state-of-security/off-topic/appunblocker-bypassing-applocker/)\n"
   ]
  }
 ],
 "metadata": {},
 "nbformat": 4,
 "nbformat_minor": 4
}
