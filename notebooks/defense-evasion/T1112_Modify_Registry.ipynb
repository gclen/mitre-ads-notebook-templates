{
 "cells": [
  {
   "cell_type": "markdown",
   "metadata": {},
   "source": [
    "## Goal\n",
    "\n",
    "## Categorization\n",
    "[Defense Evasion/Modify Registry](https://attack.mitre.org/techniques/T1112)\n",
    "\n",
    "## Strategy Abstract\n",
    "\n",
    "## Technical Context\n",
    "\n",
    "## Blind Spots and Assumptions\n",
    "\n",
    "## False Positives\n",
    "\n",
    "## Priority\n",
    "\n",
    "## Validation\n",
    "\n",
    "## Response\n",
    "\n",
    "## Additional Resources\n",
    "\n",
    " - [capec](https://capec.mitre.org/data/definitions/203.html)\n",
    "\n",
    " - [Microsoft Reg](https://technet.microsoft.com/en-us/library/cc732643.aspx)\n",
    "\n",
    " - [Microsoft Reghide NOV 2006](https://docs.microsoft.com/sysinternals/downloads/reghide)\n",
    "\n",
    " - [TrendMicro POWELIKS AUG 2014](https://blog.trendmicro.com/trendlabs-security-intelligence/poweliks-malware-hides-in-windows-registry/)\n",
    "\n",
    " - [SpectorOps Hiding Reg Jul 2017](https://posts.specterops.io/hiding-registry-keys-with-psreflect-b18ec5ac8353)\n",
    "\n",
    " - [Microsoft Remote](https://technet.microsoft.com/en-us/library/cc754820.aspx)\n",
    "\n",
    " - [Microsoft 4657 APR 2017](https://docs.microsoft.com/windows/security/threat-protection/auditing/event-4657)\n",
    "\n",
    " - [Microsoft RegDelNull July 2016](https://docs.microsoft.com/en-us/sysinternals/downloads/regdelnull)\n"
   ]
  }
 ],
 "metadata": {},
 "nbformat": 4,
 "nbformat_minor": 4
}
