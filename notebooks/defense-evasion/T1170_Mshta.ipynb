{
 "cells": [
  {
   "cell_type": "markdown",
   "metadata": {},
   "source": [
    "## Goal\n",
    "\n",
    "## Categorization\n",
    "[Defense Evasion/Mshta](https://attack.mitre.org/techniques/T1170)\n",
    "\n",
    "## Strategy Abstract\n",
    "\n",
    "## Technical Context\n",
    "\n",
    "## Blind Spots and Assumptions\n",
    "\n",
    "## False Positives\n",
    "\n",
    "## Priority\n",
    "\n",
    "## Validation\n",
    "\n",
    "## Response\n",
    "\n",
    "## Additional Resources\n",
    "\n",
    " - [Wikipedia HTML Application](https://en.wikipedia.org/wiki/HTML_Application)\n",
    "\n",
    " - [MSDN HTML Applications](https://msdn.microsoft.com/library/ms536471.aspx)\n",
    "\n",
    " - [Cylance Dust Storm](https://www.cylance.com/content/dam/cylance/pdfs/reports/Op_Dust_Storm_Report.pdf)\n",
    "\n",
    " - [Red Canary HTA Abuse Part Deux](https://www.redcanary.com/blog/microsoft-html-application-hta-abuse-part-deux/)\n",
    "\n",
    " - [FireEye Attacks Leveraging HTA](https://www.fireeye.com/blog/threat-research/2017/04/cve-2017-0199-hta-handler.html)\n",
    "\n",
    " - [Airbus Security Kovter Analysis](https://airbus-cyber-security.com/fileless-malware-behavioural-analysis-kovter-persistence/)\n",
    "\n",
    " - [FireEye FIN7 April 2017](https://www.fireeye.com/blog/threat-research/2017/04/fin7-phishing-lnk.html)\n",
    "\n",
    " - [LOLBAS Mshta](https://lolbas-project.github.io/lolbas/Binaries/Mshta/)\n"
   ]
  }
 ],
 "metadata": {},
 "nbformat": 4,
 "nbformat_minor": 4
}
