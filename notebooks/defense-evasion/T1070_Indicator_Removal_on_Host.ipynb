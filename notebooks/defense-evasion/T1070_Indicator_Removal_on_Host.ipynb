{
 "cells": [
  {
   "cell_type": "markdown",
   "metadata": {},
   "source": [
    "## Goal\n",
    "\n",
    "## Categorization\n",
    "[Defense Evasion/Indicator Removal on Host](https://attack.mitre.org/techniques/T1070)\n",
    "\n",
    "## Strategy Abstract\n",
    "\n",
    "## Technical Context\n",
    "\n",
    "## Blind Spots and Assumptions\n",
    "\n",
    "## False Positives\n",
    "\n",
    "## Priority\n",
    "\n",
    "## Validation\n",
    "\n",
    "## Response\n",
    "\n",
    "## Additional Resources\n",
    "\n",
    " - [capec](https://capec.mitre.org/data/definitions/93.html)\n",
    "\n",
    " - [Microsoft wevtutil Oct 2017](https://docs.microsoft.com/windows-server/administration/windows-commands/wevtutil)\n",
    "\n",
    " - [Microsoft EventLog.Clear](https://msdn.microsoft.com/library/system.diagnostics.eventlog.clear.aspx)\n",
    "\n",
    " - [Microsoft Clear-EventLog](https://docs.microsoft.com/powershell/module/microsoft.powershell.management/clear-eventlog)\n"
   ]
  }
 ],
 "metadata": {},
 "nbformat": 4,
 "nbformat_minor": 4
}
