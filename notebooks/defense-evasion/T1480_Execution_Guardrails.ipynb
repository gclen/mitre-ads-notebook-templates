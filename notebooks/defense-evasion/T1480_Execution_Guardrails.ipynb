{
 "cells": [
  {
   "cell_type": "markdown",
   "metadata": {},
   "source": [
    "## Goal\n",
    "\n",
    "## Categorization\n",
    "[Defense Evasion/Execution Guardrails](https://attack.mitre.org/techniques/T1480)\n",
    "\n",
    "## Strategy Abstract\n",
    "\n",
    "## Technical Context\n",
    "\n",
    "## Blind Spots and Assumptions\n",
    "\n",
    "## False Positives\n",
    "\n",
    "## Priority\n",
    "\n",
    "## Validation\n",
    "\n",
    "## Response\n",
    "\n",
    "## Additional Resources\n",
    "\n",
    " - [FireEye Kevin Mandia Guardrails](https://www.cyberscoop.com/kevin-mandia-fireeye-u-s-malware-nice/)\n",
    "\n",
    " - [EK Clueless Agents](https://www.schneier.com/academic/paperfiles/paper-clueless-agents.pdf)\n",
    "\n",
    " - [Kaspersky Gauss Whitepaper](https://media.kasperskycontenthub.com/wp-content/uploads/sites/43/2018/03/20134940/kaspersky-lab-gauss.pdf)\n",
    "\n",
    " - [Proofpoint Router Malvertising](https://www.proofpoint.com/us/threat-insight/post/home-routers-under-attack-malvertising-windows-android-devices)\n",
    "\n",
    " - [EK Impeding Malware Analysis](https://pdfs.semanticscholar.org/2721/3d206bc3c1e8c229fb4820b6af09e7f975da.pdf)\n",
    "\n",
    " - [Environmental Keyed HTA](https://www.nccgroup.trust/uk/about-us/newsroom-and-events/blogs/2017/august/smuggling-hta-files-in-internet-exploreredge/)\n",
    "\n",
    " - [Ebowla: Genetic Malware](https://github.com/Genetic-Malware/Ebowla/blob/master/Eko_2016_Morrow_Pitts_Master.pdf)\n",
    "\n",
    " - [Demiguise Guardrail Router Logo](https://github.com/nccgroup/demiguise/blob/master/examples/virginkey.js)\n"
   ]
  }
 ],
 "metadata": {},
 "nbformat": 4,
 "nbformat_minor": 4
}
