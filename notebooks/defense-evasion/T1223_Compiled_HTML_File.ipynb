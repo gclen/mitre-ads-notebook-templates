{
 "cells": [
  {
   "cell_type": "markdown",
   "metadata": {},
   "source": [
    "## Goal\n",
    "\n",
    "## Categorization\n",
    "[Defense Evasion/Compiled HTML File](https://attack.mitre.org/techniques/T1223)\n",
    "\n",
    "## Strategy Abstract\n",
    "\n",
    "## Technical Context\n",
    "\n",
    "## Blind Spots and Assumptions\n",
    "\n",
    "## False Positives\n",
    "\n",
    "## Priority\n",
    "\n",
    "## Validation\n",
    "\n",
    "## Response\n",
    "\n",
    "## Additional Resources\n",
    "\n",
    " - [Microsoft HTML Help May 2018](https://docs.microsoft.com/previous-versions/windows/desktop/htmlhelp/microsoft-html-help-1-4-sdk)\n",
    "\n",
    " - [Microsoft HTML Help ActiveX](https://msdn.microsoft.com/windows/desktop/ms644670)\n",
    "\n",
    " - [Microsoft HTML Help Executable Program](https://msdn.microsoft.com/windows/desktop/ms524405)\n",
    "\n",
    " - [MsitPros CHM Aug 2017](https://msitpros.com/?p=3909)\n",
    "\n",
    " - [Microsoft CVE-2017-8625 Aug 2017](https://portal.msrc.microsoft.com/en-US/security-guidance/advisory/CVE-2017-8625)\n"
   ]
  }
 ],
 "metadata": {},
 "nbformat": 4,
 "nbformat_minor": 4
}
