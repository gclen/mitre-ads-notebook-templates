{
 "cells": [
  {
   "cell_type": "markdown",
   "metadata": {},
   "source": [
    "## Goal\n",
    "\n",
    "## Categorization\n",
    "[Defense Evasion/Binary Padding](https://attack.mitre.org/techniques/T1009)\n",
    "\n",
    "## Strategy Abstract\n",
    "\n",
    "## Technical Context\n",
    "\n",
    "## Blind Spots and Assumptions\n",
    "\n",
    "## False Positives\n",
    "\n",
    "## Priority\n",
    "\n",
    "## Validation\n",
    "\n",
    "## Response\n",
    "\n",
    "## Additional Resources\n",
    "\n",
    " - [capec](https://capec.mitre.org/data/definitions/572.html)\n",
    "\n",
    " - [ESET OceanLotus](https://www.welivesecurity.com/2018/03/13/oceanlotus-ships-new-backdoor/)\n",
    "\n",
    " - [Securelist Malware Tricks April 2017](https://securelist.com/old-malware-tricks-to-bypass-detection-in-the-age-of-big-data/78010/)\n",
    "\n",
    " - [VirusTotal FAQ](https://www.virustotal.com/en/faq/ )\n",
    "\n",
    "\n",
    "\n",
    "#### Related sigma rules\n",
    "\n",
    "- [Failed Code Integrity Checks](https://github.com/Neo23x0/sigma/blob/master/rules/windows/builtin/win_susp_codeintegrity_check_failure.yml)\n",
    "\n"
   ]
  }
 ],
 "metadata": {},
 "nbformat": 4,
 "nbformat_minor": 4
}
