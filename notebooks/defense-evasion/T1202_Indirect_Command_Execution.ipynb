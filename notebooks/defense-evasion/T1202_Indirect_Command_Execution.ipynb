{
 "cells": [
  {
   "cell_type": "markdown",
   "metadata": {},
   "source": [
    "## Goal\n",
    "\n",
    "## Categorization\n",
    "[Defense Evasion/Indirect Command Execution](https://attack.mitre.org/techniques/T1202)\n",
    "\n",
    "## Strategy Abstract\n",
    "\n",
    "## Technical Context\n",
    "\n",
    "## Blind Spots and Assumptions\n",
    "\n",
    "## False Positives\n",
    "\n",
    "## Priority\n",
    "\n",
    "## Validation\n",
    "\n",
    "## Response\n",
    "\n",
    "## Additional Resources\n",
    "\n",
    " - [VectorSec ForFiles Aug 2017](https://twitter.com/vector_sec/status/896049052642533376)\n",
    "\n",
    " - [Evi1cg Forfiles Nov 2017](https://twitter.com/Evi1cg/status/935027922397573120)\n",
    "\n",
    " - [RSA Forfiles Aug 2017](https://community.rsa.com/community/products/netwitness/blog/2017/08/14/are-you-looking-out-for-forfilesexe-if-you-are-watching-for-cmdexe)\n"
   ]
  }
 ],
 "metadata": {},
 "nbformat": 4,
 "nbformat_minor": 4
}
