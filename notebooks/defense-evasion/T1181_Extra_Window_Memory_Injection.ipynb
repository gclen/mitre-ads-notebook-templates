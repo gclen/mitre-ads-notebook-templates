{
 "cells": [
  {
   "cell_type": "markdown",
   "metadata": {},
   "source": [
    "## Goal\n",
    "\n",
    "## Categorization\n",
    "[Defense Evasion/Extra Window Memory Injection](https://attack.mitre.org/techniques/T1181)\n",
    "\n",
    "## Strategy Abstract\n",
    "\n",
    "## Technical Context\n",
    "\n",
    "## Blind Spots and Assumptions\n",
    "\n",
    "## False Positives\n",
    "\n",
    "## Priority\n",
    "\n",
    "## Validation\n",
    "\n",
    "## Response\n",
    "\n",
    "## Additional Resources\n",
    "\n",
    " - [Microsoft Window Classes](https://msdn.microsoft.com/library/windows/desktop/ms633574.aspx)\n",
    "\n",
    " - [Microsoft GetWindowLong function](https://msdn.microsoft.com/library/windows/desktop/ms633584.aspx)\n",
    "\n",
    " - [Microsoft SetWindowLong function](https://msdn.microsoft.com/library/windows/desktop/ms633591.aspx)\n",
    "\n",
    " - [MalwareTech Power Loader Aug 2013](https://www.malwaretech.com/2013/08/powerloader-injection-something-truly.html)\n",
    "\n",
    " - [WeLiveSecurity Gapz and Redyms Mar 2013](https://www.welivesecurity.com/2013/03/19/gapz-and-redyms-droppers-based-on-power-loader-code/)\n",
    "\n",
    " - [Microsoft SendNotifyMessage function](https://msdn.microsoft.com/library/windows/desktop/ms644953.aspx)\n",
    "\n",
    " - [Endgame Process Injection July 2017](https://www.endgame.com/blog/technical-blog/ten-process-injection-techniques-technical-survey-common-and-trending-process)\n"
   ]
  }
 ],
 "metadata": {},
 "nbformat": 4,
 "nbformat_minor": 4
}
