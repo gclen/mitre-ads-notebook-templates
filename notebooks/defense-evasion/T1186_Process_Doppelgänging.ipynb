{
 "cells": [
  {
   "cell_type": "markdown",
   "metadata": {},
   "source": [
    "## Goal\n",
    "\n",
    "## Categorization\n",
    "[Defense Evasion/Process Doppelgänging](https://attack.mitre.org/techniques/T1186)\n",
    "\n",
    "## Strategy Abstract\n",
    "\n",
    "## Technical Context\n",
    "\n",
    "## Blind Spots and Assumptions\n",
    "\n",
    "## False Positives\n",
    "\n",
    "## Priority\n",
    "\n",
    "## Validation\n",
    "\n",
    "## Response\n",
    "\n",
    "## Additional Resources\n",
    "\n",
    " - [Microsoft TxF](https://msdn.microsoft.com/library/windows/desktop/bb968806.aspx)\n",
    "\n",
    " - [Microsoft Basic TxF Concepts](https://msdn.microsoft.com/library/windows/desktop/dd979526.aspx)\n",
    "\n",
    " - [Microsoft Where to use TxF](https://msdn.microsoft.com/library/windows/desktop/aa365738.aspx)\n",
    "\n",
    " - [BlackHat Process Doppelgänging Dec 2017](https://www.blackhat.com/docs/eu-17/materials/eu-17-Liberman-Lost-In-Transaction-Process-Doppelganging.pdf)\n",
    "\n",
    " - [hasherezade Process Doppelgänging Dec 2017](https://hshrzd.wordpress.com/2017/12/18/process-doppelganging-a-new-way-to-impersonate-a-process/)\n",
    "\n",
    " - [Microsoft PsSetCreateProcessNotifyRoutine routine](https://msdn.microsoft.com/library/windows/hardware/ff559951.aspx)\n"
   ]
  }
 ],
 "metadata": {},
 "nbformat": 4,
 "nbformat_minor": 4
}
