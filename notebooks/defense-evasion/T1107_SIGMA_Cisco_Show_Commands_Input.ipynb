{
 "cells": [
  {
   "cell_type": "markdown",
   "metadata": {},
   "source": [
    "## Goal\n",
    "\n",
    "## Categorization\n",
    "[Defense Evasion/File Deletion](https://attack.mitre.org/techniques/T1107)\n",
    "\n",
    "## Strategy Abstract\n",
    "\n",
    "## Technical Context\n",
    "\n",
    "## Blind Spots and Assumptions\n",
    "\n",
    "## False Positives\n",
    "\n",
    "## Priority\n",
    "\n",
    "## Validation\n",
    "\n",
    "## Response\n",
    "\n",
    "## Additional Resources\n",
    "\n",
    " - [Trend Micro APT Attack Tools](http://blog.trendmicro.com/trendlabs-security-intelligence/in-depth-look-apt-attack-tools-of-the-trade/)\n",
    "\n",
    "\n",
    "\n",
    "#### Related sigma rules\n",
    "\n",
    "- [Backup Catalog Deleted](https://github.com/Neo23x0/sigma/blob/master/rules/windows/builtin/win_susp_backup_delete.yml)\n",
    "\n",
    "- [Secure Deletion with SDelete](https://github.com/Neo23x0/sigma/blob/master/rules/windows/builtin/win_susp_sdelete.yml)\n",
    "\n",
    "- [Cisco Show Commands Input](https://github.com/Neo23x0/sigma/blob/master/rules/network/cisco/aaa/cisco_cli_file_deletion.yml)\n",
    "\n"
   ]
  }
 ],
 "metadata": {},
 "nbformat": 4,
 "nbformat_minor": 4
}
