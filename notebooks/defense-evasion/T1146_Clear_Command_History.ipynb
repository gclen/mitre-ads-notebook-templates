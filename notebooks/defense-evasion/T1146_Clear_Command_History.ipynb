{
 "cells": [
  {
   "cell_type": "markdown",
   "metadata": {},
   "source": [
    "## Goal\n",
    "\n",
    "## Categorization\n",
    "[Defense Evasion/Clear Command History](https://attack.mitre.org/techniques/T1146)\n",
    "\n",
    "## Strategy Abstract\n",
    "\n",
    "## Technical Context\n",
    "\n",
    "## Blind Spots and Assumptions\n",
    "\n",
    "## False Positives\n",
    "\n",
    "## Priority\n",
    "\n",
    "## Validation\n",
    "\n",
    "## Response\n",
    "\n",
    "## Additional Resources\n",
    "\n",
    "\n",
    "\n",
    "#### Related sigma rules\n",
    "\n",
    "- [Clear PowerShell History](https://github.com/Neo23x0/sigma/blob/master/rules/windows/powershell/powershell_clear_powershell_history.yml)\n",
    "\n",
    "- [Clear Command History](https://github.com/Neo23x0/sigma/blob/master/rules/linux/lnx_shell_clear_cmd_history.yml)\n",
    "\n",
    "- [Cisco Clear Logs](https://github.com/Neo23x0/sigma/blob/master/rules/network/cisco/aaa/cisco_cli_clear_logs.yml)\n",
    "\n"
   ]
  }
 ],
 "metadata": {},
 "nbformat": 4,
 "nbformat_minor": 4
}
