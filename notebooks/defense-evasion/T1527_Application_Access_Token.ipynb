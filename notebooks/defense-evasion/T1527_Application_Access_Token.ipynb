{
 "cells": [
  {
   "cell_type": "markdown",
   "metadata": {},
   "source": [
    "## Goal\n",
    "\n",
    "## Categorization\n",
    "[Defense Evasion/Application Access Token](https://attack.mitre.org/techniques/T1527)\n",
    "\n",
    "## Strategy Abstract\n",
    "\n",
    "## Technical Context\n",
    "\n",
    "## Blind Spots and Assumptions\n",
    "\n",
    "## False Positives\n",
    "\n",
    "## Priority\n",
    "\n",
    "## Validation\n",
    "\n",
    "## Response\n",
    "\n",
    "## Additional Resources\n",
    "\n",
    " - [Auth0 - Why You Should Always Use Access Tokens to Secure APIs Sept 2019](https://auth0.com/docs/api-auth/why-use-access-tokens-to-secure-apis)\n",
    "\n",
    " - [okta](https://developer.okta.com/blog/2018/06/20/what-happens-if-your-jwt-is-stolen)\n",
    "\n",
    " - [Microsoft Identity Platform Access 2019](https://docs.microsoft.com/en-us/azure/active-directory/develop/access-tokens)\n",
    "\n",
    " - [Staaldraad Phishing with OAuth 2017](https://staaldraad.github.io/2017/08/02/o356-phishing-with-oauth/)\n"
   ]
  }
 ],
 "metadata": {},
 "nbformat": 4,
 "nbformat_minor": 4
}
