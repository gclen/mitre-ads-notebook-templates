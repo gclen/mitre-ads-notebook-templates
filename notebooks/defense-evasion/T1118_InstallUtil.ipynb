{
 "cells": [
  {
   "cell_type": "markdown",
   "metadata": {},
   "source": [
    "## Goal\n",
    "\n",
    "## Categorization\n",
    "[Defense Evasion/InstallUtil](https://attack.mitre.org/techniques/T1118)\n",
    "\n",
    "## Strategy Abstract\n",
    "\n",
    "## Technical Context\n",
    "\n",
    "## Blind Spots and Assumptions\n",
    "\n",
    "## False Positives\n",
    "\n",
    "## Priority\n",
    "\n",
    "## Validation\n",
    "\n",
    "## Response\n",
    "\n",
    "## Additional Resources\n",
    "\n",
    " - [MSDN InstallUtil](https://msdn.microsoft.com/en-us/library/50614e95.aspx)\n",
    "\n",
    " - [LOLBAS Installutil](https://lolbas-project.github.io/lolbas/Binaries/Installutil/)\n"
   ]
  }
 ],
 "metadata": {},
 "nbformat": 4,
 "nbformat_minor": 4
}
