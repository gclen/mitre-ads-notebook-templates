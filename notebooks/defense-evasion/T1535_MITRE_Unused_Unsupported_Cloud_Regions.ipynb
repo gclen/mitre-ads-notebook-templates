{
 "cells": [
  {
   "cell_type": "markdown",
   "metadata": {},
   "source": [
    "## Goal\n",
    "\n",
    "## Categorization\n",
    "[Defense Evasion/Unused/Unsupported Cloud Regions](https://attack.mitre.org/techniques/T1535)\n",
    "\n",
    "## Strategy Abstract\n",
    "\n",
    "## Technical Context\n",
    "\n",
    "## Blind Spots and Assumptions\n",
    "\n",
    "## False Positives\n",
    "\n",
    "## Priority\n",
    "\n",
    "## Validation\n",
    "\n",
    "## Response\n",
    "\n",
    "## Additional Resources\n",
    "\n",
    " - [AWS Region Service Table](https://aws.amazon.com/about-aws/global-infrastructure/regional-product-services/)\n",
    "\n",
    " - [CloudSploit - Unused AWS Regions](https://blog.cloudsploit.com/the-danger-of-unused-aws-regions-af0bf1b878fc)\n",
    "\n",
    "\n"
   ]
  }
 ],
 "metadata": {},
 "nbformat": 4,
 "nbformat_minor": 4
}
