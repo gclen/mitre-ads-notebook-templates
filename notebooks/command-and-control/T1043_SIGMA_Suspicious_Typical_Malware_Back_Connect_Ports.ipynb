{
 "cells": [
  {
   "cell_type": "markdown",
   "metadata": {},
   "source": [
    "## Goal\n",
    "\n",
    "## Categorization\n",
    "[Command And Control/Commonly Used Port](https://attack.mitre.org/techniques/T1043)\n",
    "\n",
    "## Strategy Abstract\n",
    "\n",
    "## Technical Context\n",
    "\n",
    "## Blind Spots and Assumptions\n",
    "\n",
    "## False Positives\n",
    "\n",
    "## Priority\n",
    "\n",
    "## Validation\n",
    "\n",
    "## Response\n",
    "\n",
    "## Additional Resources\n",
    "\n",
    " - [University of Birmingham C2](https://arxiv.org/ftp/arxiv/papers/1408/1408.1136.pdf)\n",
    "\n",
    "\n",
    "\n",
    "#### Related sigma rules\n",
    "\n",
    "- [Suspicious Typical Malware Back Connect Ports](https://github.com/Neo23x0/sigma/blob/master/rules/windows/sysmon/sysmon_malware_backconnect_ports.yml)\n",
    "\n",
    "- [Possible DNS Rebinding](https://github.com/Neo23x0/sigma/blob/master/rules/windows/sysmon/sysmon_possible_dns_rebinding.yml)\n",
    "\n"
   ]
  }
 ],
 "metadata": {},
 "nbformat": 4,
 "nbformat_minor": 4
}
