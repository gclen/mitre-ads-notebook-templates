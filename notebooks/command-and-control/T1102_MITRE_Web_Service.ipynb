{
 "cells": [
  {
   "cell_type": "markdown",
   "metadata": {},
   "source": [
    "## Goal\n",
    "\n",
    "## Categorization\n",
    "[Command And Control/Web Service](https://attack.mitre.org/techniques/T1102)\n",
    "\n",
    "## Strategy Abstract\n",
    "\n",
    "## Technical Context\n",
    "\n",
    "## Blind Spots and Assumptions\n",
    "\n",
    "## False Positives\n",
    "\n",
    "## Priority\n",
    "\n",
    "## Validation\n",
    "\n",
    "## Response\n",
    "\n",
    "## Additional Resources\n",
    "\n",
    " - [University of Birmingham C2](https://arxiv.org/ftp/arxiv/papers/1408/1408.1136.pdf)\n",
    "\n",
    "\n",
    "\n",
    "#### Related sigma rules\n",
    "\n",
    "- [CobaltStrike Malleable OneDrive Browsing Traffic Profile](https://github.com/Neo23x0/sigma/blob/master/rules/proxy/proxy_cobalt_onedrive.yml)\n",
    "\n",
    "- [CobaltStrike Malleable (OCSP) Profile](https://github.com/Neo23x0/sigma/blob/master/rules/proxy/proxy_cobalt_ocsp.yml)\n",
    "\n",
    "- [Raw Paste Service Access](https://github.com/Neo23x0/sigma/blob/master/rules/proxy/proxy_raw_paste_service_access.yml)\n",
    "\n",
    "- [CobaltStrike Malleable Amazon Browsing Traffic Profile](https://github.com/Neo23x0/sigma/blob/master/rules/proxy/proxy_cobalt_amazon.yml)\n",
    "\n"
   ]
  }
 ],
 "metadata": {},
 "nbformat": 4,
 "nbformat_minor": 4
}
