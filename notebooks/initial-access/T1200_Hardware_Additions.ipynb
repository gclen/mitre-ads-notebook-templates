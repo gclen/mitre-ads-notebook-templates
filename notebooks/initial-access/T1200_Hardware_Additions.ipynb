{
 "cells": [
  {
   "cell_type": "markdown",
   "metadata": {},
   "source": [
    "## Goal\n",
    "\n",
    "## Categorization\n",
    "[Initial Access/Hardware Additions](https://attack.mitre.org/techniques/T1200)\n",
    "\n",
    "## Strategy Abstract\n",
    "\n",
    "## Technical Context\n",
    "\n",
    "## Blind Spots and Assumptions\n",
    "\n",
    "## False Positives\n",
    "\n",
    "## Priority\n",
    "\n",
    "## Validation\n",
    "\n",
    "## Response\n",
    "\n",
    "## Additional Resources\n",
    "\n",
    " - [Ossmann Star Feb 2011](https://ossmann.blogspot.com/2011/02/throwing-star-lan-tap.html)\n",
    "\n",
    " - [Aleks Weapons Nov 2015](http://www.bsidesto.ca/2015/slides/Weapons_of_a_Penetration_Tester.pptx)\n",
    "\n",
    " - [Hak5 RubberDuck Dec 2016](https://www.hak5.org/blog/main-blog/stealing-files-with-the-usb-rubber-ducky-usb-exfiltration-explained)\n",
    "\n",
    " - [Frisk DMA August 2016](https://www.youtube.com/watch?v=fXthwl6ShOg)\n",
    "\n",
    " - [McMillan Pwn March 2012](https://arstechnica.com/information-technology/2012/03/the-pwn-plug-is-a-little-white-box-that-can-hack-your-network/)\n"
   ]
  }
 ],
 "metadata": {},
 "nbformat": 4,
 "nbformat_minor": 4
}
