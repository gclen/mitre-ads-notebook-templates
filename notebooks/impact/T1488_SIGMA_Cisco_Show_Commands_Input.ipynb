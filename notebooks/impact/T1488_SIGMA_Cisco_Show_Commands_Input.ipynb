{
 "cells": [
  {
   "cell_type": "markdown",
   "metadata": {},
   "source": [
    "## Goal\n",
    "\n",
    "## Categorization\n",
    "[Impact/Disk Content Wipe](https://attack.mitre.org/techniques/T1488)\n",
    "\n",
    "## Strategy Abstract\n",
    "\n",
    "## Technical Context\n",
    "\n",
    "## Blind Spots and Assumptions\n",
    "\n",
    "## False Positives\n",
    "\n",
    "## Priority\n",
    "\n",
    "## Validation\n",
    "\n",
    "## Response\n",
    "\n",
    "## Additional Resources\n",
    "\n",
    " - [Novetta Blockbuster](https://www.operationblockbuster.com/wp-content/uploads/2016/02/Operation-Blockbuster-Report.pdf)\n",
    "\n",
    " - [Novetta Blockbuster Destructive Malware](https://operationblockbuster.com/wp-content/uploads/2016/02/Operation-Blockbuster-Destructive-Malware-Report.pdf)\n",
    "\n",
    " - [DOJ Lazarus Sony 2018](https://www.justice.gov/opa/press-release/file/1092091/download)\n",
    "\n",
    "\n",
    "\n",
    "#### Related sigma rules\n",
    "\n",
    "- [Cisco Show Commands Input](https://github.com/Neo23x0/sigma/blob/master/rules/network/cisco/aaa/cisco_cli_file_deletion.yml)\n",
    "\n"
   ]
  }
 ],
 "metadata": {},
 "nbformat": 4,
 "nbformat_minor": 4
}
