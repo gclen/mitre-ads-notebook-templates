{
 "cells": [
  {
   "cell_type": "markdown",
   "metadata": {},
   "source": [
    "## Goal\n",
    "\n",
    "## Categorization\n",
    "[Impact/Data Encrypted for Impact](https://attack.mitre.org/techniques/T1486)\n",
    "\n",
    "## Strategy Abstract\n",
    "\n",
    "## Technical Context\n",
    "\n",
    "## Blind Spots and Assumptions\n",
    "\n",
    "## False Positives\n",
    "\n",
    "## Priority\n",
    "\n",
    "## Validation\n",
    "\n",
    "## Response\n",
    "\n",
    "## Additional Resources\n",
    "\n",
    " - [US-CERT Ransomware 2016](https://www.us-cert.gov/ncas/alerts/TA16-091A)\n",
    "\n",
    " - [FireEye WannaCry 2017](https://www.fireeye.com/blog/threat-research/2017/05/wannacry-malware-profile.html)\n",
    "\n",
    " - [US-CERT NotPetya 2017](https://www.us-cert.gov/ncas/alerts/TA17-181A)\n",
    "\n",
    " - [US-CERT SamSam 2018](https://www.us-cert.gov/ncas/alerts/AA18-337A)\n",
    "\n",
    "\n"
   ]
  }
 ],
 "metadata": {},
 "nbformat": 4,
 "nbformat_minor": 4
}
