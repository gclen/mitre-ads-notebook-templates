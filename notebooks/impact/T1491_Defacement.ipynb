{
 "cells": [
  {
   "cell_type": "markdown",
   "metadata": {},
   "source": [
    "## Goal\n",
    "\n",
    "## Categorization\n",
    "[Impact/Defacement](https://attack.mitre.org/techniques/T1491)\n",
    "\n",
    "## Strategy Abstract\n",
    "\n",
    "## Technical Context\n",
    "\n",
    "## Blind Spots and Assumptions\n",
    "\n",
    "## False Positives\n",
    "\n",
    "## Priority\n",
    "\n",
    "## Validation\n",
    "\n",
    "## Response\n",
    "\n",
    "## Additional Resources\n",
    "\n",
    " - [Novetta Blockbuster](https://www.operationblockbuster.com/wp-content/uploads/2016/02/Operation-Blockbuster-Report.pdf)\n",
    "\n",
    " - [Novetta Blockbuster Destructive Malware](https://operationblockbuster.com/wp-content/uploads/2016/02/Operation-Blockbuster-Destructive-Malware-Report.pdf)\n",
    "\n",
    " - [FireEye Cyber Threats to Media Industries](https://www.fireeye.com/content/dam/fireeye-www/current-threats/pdfs/ib-entertainment.pdf)\n",
    "\n",
    " - [Kevin Mandia Statement to US Senate Committee on Intelligence](https://www.intelligence.senate.gov/sites/default/files/documents/os-kmandia-033017.pdf)\n",
    "\n",
    " - [Anonymous Hackers Deface Russian Govt Site](https://torrentfreak.com/anonymous-hackers-deface-russian-govt-site-to-protest-web-blocking-nsfw-180512/)\n",
    "\n",
    " - [Trend Micro Deep Dive Into Defacement](https://documents.trendmicro.com/assets/white_papers/wp-a-deep-dive-into-defacement.pdf)\n"
   ]
  }
 ],
 "metadata": {},
 "nbformat": 4,
 "nbformat_minor": 4
}
