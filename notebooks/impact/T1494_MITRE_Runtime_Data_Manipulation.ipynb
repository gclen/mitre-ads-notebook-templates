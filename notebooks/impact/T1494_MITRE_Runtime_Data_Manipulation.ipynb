{
 "cells": [
  {
   "cell_type": "markdown",
   "metadata": {},
   "source": [
    "## Goal\n",
    "\n",
    "## Categorization\n",
    "[Impact/Runtime Data Manipulation](https://attack.mitre.org/techniques/T1494)\n",
    "\n",
    "## Strategy Abstract\n",
    "\n",
    "## Technical Context\n",
    "\n",
    "## Blind Spots and Assumptions\n",
    "\n",
    "## False Positives\n",
    "\n",
    "## Priority\n",
    "\n",
    "## Validation\n",
    "\n",
    "## Response\n",
    "\n",
    "## Additional Resources\n",
    "\n",
    " - [FireEye APT38 Oct 2018](https://content.fireeye.com/apt/rpt-apt38)\n",
    "\n",
    " - [DOJ Lazarus Sony 2018](https://www.justice.gov/opa/press-release/file/1092091/download)\n",
    "\n",
    "\n"
   ]
  }
 ],
 "metadata": {},
 "nbformat": 4,
 "nbformat_minor": 4
}
