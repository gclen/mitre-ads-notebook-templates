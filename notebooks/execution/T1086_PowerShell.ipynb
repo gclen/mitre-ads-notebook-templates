{
 "cells": [
  {
   "cell_type": "markdown",
   "metadata": {},
   "source": [
    "## Goal\n",
    "\n",
    "## Categorization\n",
    "[Execution/PowerShell](https://attack.mitre.org/techniques/T1086)\n",
    "\n",
    "## Strategy Abstract\n",
    "\n",
    "## Technical Context\n",
    "\n",
    "## Blind Spots and Assumptions\n",
    "\n",
    "## False Positives\n",
    "\n",
    "## Priority\n",
    "\n",
    "## Validation\n",
    "\n",
    "## Response\n",
    "\n",
    "## Additional Resources\n",
    "\n",
    " - [TechNet PowerShell](https://technet.microsoft.com/en-us/scriptcenter/dd742419.aspx)\n",
    "\n",
    " - [Powersploit](https://github.com/mattifestation/PowerSploit)\n",
    "\n",
    " - [Github PSAttack](https://github.com/jaredhaight/PSAttack)\n",
    "\n",
    " - [Sixdub PowerPick Jan 2016](http://www.sixdub.net/?p=367)\n",
    "\n",
    " - [SilentBreak Offensive PS Dec 2015](https://silentbreaksecurity.com/powershell-jobs-without-powershell-exe/)\n",
    "\n",
    " - [Microsoft PSfromCsharp APR 2014](https://blogs.msdn.microsoft.com/kebab/2014/04/28/executing-powershell-scripts-from-c/)\n",
    "\n",
    " - [Malware Archaeology PowerShell Cheat Sheet](http://www.malwarearchaeology.com/s/Windows-PowerShell-Logging-Cheat-Sheet-ver-June-2016-v2.pdf)\n",
    "\n",
    " - [FireEye PowerShell Logging 2016](https://www.fireeye.com/blog/threat-research/2016/02/greater_visibilityt.html)\n"
   ]
  }
 ],
 "metadata": {},
 "nbformat": 4,
 "nbformat_minor": 4
}
