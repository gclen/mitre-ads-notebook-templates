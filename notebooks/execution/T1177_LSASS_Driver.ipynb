{
 "cells": [
  {
   "cell_type": "markdown",
   "metadata": {},
   "source": [
    "## Goal\n",
    "\n",
    "## Categorization\n",
    "[Execution/LSASS Driver](https://attack.mitre.org/techniques/T1177)\n",
    "\n",
    "## Strategy Abstract\n",
    "\n",
    "## Technical Context\n",
    "\n",
    "## Blind Spots and Assumptions\n",
    "\n",
    "## False Positives\n",
    "\n",
    "## Priority\n",
    "\n",
    "## Validation\n",
    "\n",
    "## Response\n",
    "\n",
    "## Additional Resources\n",
    "\n",
    " - [Microsoft Security Subsystem](https://technet.microsoft.com/library/cc961760.aspx)\n",
    "\n",
    " - [Microsoft LSA Protection Mar 2014](https://technet.microsoft.com/library/dn408187.aspx)\n",
    "\n",
    " - [TechNet Autoruns](https://technet.microsoft.com/en-us/sysinternals/bb963902)\n",
    "\n",
    " - [Microsoft DLL Security](https://msdn.microsoft.com/library/windows/desktop/ff919712.aspx)\n",
    "\n",
    "\n",
    "\n",
    "#### Related sigma rules\n",
    "\n",
    "- [DLL Load via LSASS](https://github.com/Neo23x0/sigma/blob/master/rules/windows/sysmon/sysmon_susp_lsass_dll_load.yml)\n",
    "\n"
   ]
  }
 ],
 "metadata": {},
 "nbformat": 4,
 "nbformat_minor": 4
}
