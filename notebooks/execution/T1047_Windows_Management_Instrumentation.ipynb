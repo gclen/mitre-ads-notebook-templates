{
 "cells": [
  {
   "cell_type": "markdown",
   "metadata": {},
   "source": [
    "## Goal\n",
    "\n",
    "## Categorization\n",
    "[Execution/Windows Management Instrumentation](https://attack.mitre.org/techniques/T1047)\n",
    "\n",
    "## Strategy Abstract\n",
    "\n",
    "## Technical Context\n",
    "\n",
    "## Blind Spots and Assumptions\n",
    "\n",
    "## False Positives\n",
    "\n",
    "## Priority\n",
    "\n",
    "## Validation\n",
    "\n",
    "## Response\n",
    "\n",
    "## Additional Resources\n",
    "\n",
    " - [Wikipedia SMB](https://en.wikipedia.org/wiki/Server_Message_Block)\n",
    "\n",
    " - [TechNet RPC](https://technet.microsoft.com/en-us/library/cc787851.aspx)\n",
    "\n",
    " - [MSDN WMI](https://msdn.microsoft.com/en-us/library/aa394582.aspx)\n",
    "\n",
    " - [FireEye WMI 2015](https://www.fireeye.com/content/dam/fireeye-www/global/en/current-threats/pdfs/wp-windows-management-instrumentation.pdf)\n"
   ]
  }
 ],
 "metadata": {},
 "nbformat": 4,
 "nbformat_minor": 4
}
